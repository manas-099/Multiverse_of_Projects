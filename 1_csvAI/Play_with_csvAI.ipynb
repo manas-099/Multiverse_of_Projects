{
  "nbformat": 4,
  "nbformat_minor": 0,
  "metadata": {
    "colab": {
      "provenance": []
    },
    "kernelspec": {
      "name": "python3",
      "display_name": "Python 3"
    },
    "language_info": {
      "name": "python"
    }
  },
  "cells": [
    {
      "cell_type": "markdown",
      "source": [
        "## here i dont handle input for any csv file\n",
        "\n",
        "## in this project my input handler only handle input for sales.csv (given)file  not for any csv file.\n",
        "## Handle user input for ANY CSV-like DataFrame will be implemented in  data_anaysis_project"
      ],
      "metadata": {
        "id": "NyUBBQfhSlc0"
      }
    },
    {
      "cell_type": "code",
      "execution_count": 3,
      "metadata": {
        "id": "O8EBksOZkDi5"
      },
      "outputs": [],
      "source": [
        "%%capture\n",
        "!pip install -q langchain langgraph langchain_core langchain_community langchain-google-genai langchain_experimental"
      ]
    },
    {
      "cell_type": "code",
      "source": [
        "import os\n",
        "\n",
        "\n",
        "os.environ[\"GOOGLE_API_KEY\"]=google_api_key\n",
        "os.environ[\"GROQ_API_KEY\"]=groq_api_key\n",
        "\n",
        "\n",
        "\n",
        "\n",
        "from langchain_google_genai import ChatGoogleGenerativeAI\n",
        "\n",
        "# model_name=\"gemini-1.5-flash-latest\"\n",
        "model_name=\"gemini-pro\"\n",
        "\n",
        "llm=ChatGoogleGenerativeAI(\n",
        "    model=model_name,\n",
        "    temperature=0.2\n",
        ")\n"
      ],
      "metadata": {
        "id": "2ZfnyBQOkEXl"
      },
      "execution_count": 72,
      "outputs": []
    },
    {
      "cell_type": "code",
      "source": [
        "!pip install -qU langchain-groq"
      ],
      "metadata": {
        "colab": {
          "base_uri": "https://localhost:8080/"
        },
        "id": "eAyr67k66CKD",
        "outputId": "5801d219-6d83-4d4f-bdf8-a9bd39c403c8"
      },
      "execution_count": 70,
      "outputs": [
        {
          "output_type": "stream",
          "name": "stdout",
          "text": [
            "\u001b[?25l   \u001b[90m━━━━━━━━━━━━━━━━━━━━━━━━━━━━━━━━━━━━━━━━\u001b[0m \u001b[32m0.0/131.4 kB\u001b[0m \u001b[31m?\u001b[0m eta \u001b[36m-:--:--\u001b[0m\r\u001b[2K   \u001b[90m━━━━━━━━━━━━━━━━━━━━━━━━━━━━━━━━━━━━━━━━\u001b[0m \u001b[32m131.4/131.4 kB\u001b[0m \u001b[31m10.8 MB/s\u001b[0m eta \u001b[36m0:00:00\u001b[0m\n",
            "\u001b[?25h"
          ]
        }
      ]
    },
    {
      "cell_type": "code",
      "source": [
        "from langchain_groq import ChatGroq\n",
        "\n",
        "llm = ChatGroq(\n",
        "    model=\"llama3-70b-8192\",\n",
        "    temperature=0,\n",
        "\n",
        ")"
      ],
      "metadata": {
        "id": "GnbUAG356Ikd"
      },
      "execution_count": 77,
      "outputs": []
    },
    {
      "cell_type": "code",
      "source": [
        "import pandas as pd\n",
        "csv_file_path=\"/content/sales_data_sample.csv\"\n",
        "df = pd.read_csv(csv_file_path, encoding='latin-1')"
      ],
      "metadata": {
        "id": "xNkwlr8e81Rd"
      },
      "execution_count": 84,
      "outputs": []
    },
    {
      "cell_type": "code",
      "source": [
        "len(df)"
      ],
      "metadata": {
        "colab": {
          "base_uri": "https://localhost:8080/"
        },
        "id": "kONYiGAo9Y_p",
        "outputId": "28a0eeaf-3cab-4b46-8ebe-954104f884f1"
      },
      "execution_count": 87,
      "outputs": [
        {
          "output_type": "execute_result",
          "data": {
            "text/plain": [
              "2823"
            ]
          },
          "metadata": {},
          "execution_count": 87
        }
      ]
    },
    {
      "cell_type": "code",
      "source": [
        "df_sampled.columns"
      ],
      "metadata": {
        "colab": {
          "base_uri": "https://localhost:8080/"
        },
        "id": "zBLhtmcf-gZw",
        "outputId": "f0160d48-02cb-4532-eff7-1bfbf8625f7e"
      },
      "execution_count": 90,
      "outputs": [
        {
          "output_type": "execute_result",
          "data": {
            "text/plain": [
              "Index(['ORDERNUMBER', 'QUANTITYORDERED', 'PRICEEACH', 'ORDERLINENUMBER',\n",
              "       'SALES', 'ORDERDATE', 'STATUS', 'QTR_ID', 'MONTH_ID', 'YEAR_ID',\n",
              "       'PRODUCTLINE', 'MSRP', 'PRODUCTCODE', 'CUSTOMERNAME', 'PHONE',\n",
              "       'ADDRESSLINE1', 'ADDRESSLINE2', 'CITY', 'STATE', 'POSTALCODE',\n",
              "       'COUNTRY', 'TERRITORY', 'CONTACTLASTNAME', 'CONTACTFIRSTNAME',\n",
              "       'DEALSIZE'],\n",
              "      dtype='object')"
            ]
          },
          "metadata": {},
          "execution_count": 90
        }
      ]
    },
    {
      "cell_type": "code",
      "source": [
        "df_sampled = df.sample(n=5)\n",
        "df_sampled.drop(['ORDERLINENUMBER', 'QTR_ID','MONTH_ID','ADDRESSLINE2','YEAR_ID','STATE','POSTALCODE','TERRITORY','CONTACTFIRSTNAME','CONTACTLASTNAME','PHONE','PRODUCTLINE','MSRP'] ,axis=1, inplace=True)\n",
        "df_sampled"
      ],
      "metadata": {
        "colab": {
          "base_uri": "https://localhost:8080/",
          "height": 310
        },
        "id": "OIG4Hid59KWZ",
        "outputId": "9788d184-c466-46ed-fbe4-f17fad7fb460"
      },
      "execution_count": 92,
      "outputs": [
        {
          "output_type": "execute_result",
          "data": {
            "text/plain": [
              "      ORDERNUMBER  QUANTITYORDERED  PRICEEACH    SALES        ORDERDATE  \\\n",
              "2308        10210               39      59.16  2307.24   1/12/2004 0:00   \n",
              "2211        10285               37      41.03  1518.11   8/27/2004 0:00   \n",
              "1525        10262               34      97.38  3310.92   6/24/2004 0:00   \n",
              "2527        10327               20     100.00  3469.20  11/10/2004 0:00   \n",
              "1249        10196               27     100.00  4537.08  11/26/2003 0:00   \n",
              "\n",
              "         STATUS PRODUCTCODE              CUSTOMERNAME  \\\n",
              "2308    Shipped    S32_4289      Osaka Souveniers Co.   \n",
              "2211    Shipped    S32_2206      Marta's Replicas Co.   \n",
              "1525  Cancelled    S24_1785     Euro Shopping Channel   \n",
              "2527   Resolved   S700_1938  Danish Wholesale Imports   \n",
              "1249    Shipped    S18_4027          Super Scale Inc.   \n",
              "\n",
              "                                  ADDRESSLINE1       CITY  COUNTRY DEALSIZE  \n",
              "2308  Dojima Avanza 4F, 1-6-20 Dojima, Kita-ku      Osaka    Japan    Small  \n",
              "2211                       39323 Spinnaker Dr.  Cambridge      USA    Small  \n",
              "1525                        C/ Moralzarzal, 86     Madrid    Spain   Medium  \n",
              "2527                              Vinb'ltet 34  Kobenhavn  Denmark   Medium  \n",
              "1249                  567 North Pendale Street  New Haven      USA   Medium  "
            ],
            "text/html": [
              "\n",
              "  <div id=\"df-2b7d65fd-9762-4edd-b4c2-f2caf5782f90\" class=\"colab-df-container\">\n",
              "    <div>\n",
              "<style scoped>\n",
              "    .dataframe tbody tr th:only-of-type {\n",
              "        vertical-align: middle;\n",
              "    }\n",
              "\n",
              "    .dataframe tbody tr th {\n",
              "        vertical-align: top;\n",
              "    }\n",
              "\n",
              "    .dataframe thead th {\n",
              "        text-align: right;\n",
              "    }\n",
              "</style>\n",
              "<table border=\"1\" class=\"dataframe\">\n",
              "  <thead>\n",
              "    <tr style=\"text-align: right;\">\n",
              "      <th></th>\n",
              "      <th>ORDERNUMBER</th>\n",
              "      <th>QUANTITYORDERED</th>\n",
              "      <th>PRICEEACH</th>\n",
              "      <th>SALES</th>\n",
              "      <th>ORDERDATE</th>\n",
              "      <th>STATUS</th>\n",
              "      <th>PRODUCTCODE</th>\n",
              "      <th>CUSTOMERNAME</th>\n",
              "      <th>ADDRESSLINE1</th>\n",
              "      <th>CITY</th>\n",
              "      <th>COUNTRY</th>\n",
              "      <th>DEALSIZE</th>\n",
              "    </tr>\n",
              "  </thead>\n",
              "  <tbody>\n",
              "    <tr>\n",
              "      <th>2308</th>\n",
              "      <td>10210</td>\n",
              "      <td>39</td>\n",
              "      <td>59.16</td>\n",
              "      <td>2307.24</td>\n",
              "      <td>1/12/2004 0:00</td>\n",
              "      <td>Shipped</td>\n",
              "      <td>S32_4289</td>\n",
              "      <td>Osaka Souveniers Co.</td>\n",
              "      <td>Dojima Avanza 4F, 1-6-20 Dojima, Kita-ku</td>\n",
              "      <td>Osaka</td>\n",
              "      <td>Japan</td>\n",
              "      <td>Small</td>\n",
              "    </tr>\n",
              "    <tr>\n",
              "      <th>2211</th>\n",
              "      <td>10285</td>\n",
              "      <td>37</td>\n",
              "      <td>41.03</td>\n",
              "      <td>1518.11</td>\n",
              "      <td>8/27/2004 0:00</td>\n",
              "      <td>Shipped</td>\n",
              "      <td>S32_2206</td>\n",
              "      <td>Marta's Replicas Co.</td>\n",
              "      <td>39323 Spinnaker Dr.</td>\n",
              "      <td>Cambridge</td>\n",
              "      <td>USA</td>\n",
              "      <td>Small</td>\n",
              "    </tr>\n",
              "    <tr>\n",
              "      <th>1525</th>\n",
              "      <td>10262</td>\n",
              "      <td>34</td>\n",
              "      <td>97.38</td>\n",
              "      <td>3310.92</td>\n",
              "      <td>6/24/2004 0:00</td>\n",
              "      <td>Cancelled</td>\n",
              "      <td>S24_1785</td>\n",
              "      <td>Euro Shopping Channel</td>\n",
              "      <td>C/ Moralzarzal, 86</td>\n",
              "      <td>Madrid</td>\n",
              "      <td>Spain</td>\n",
              "      <td>Medium</td>\n",
              "    </tr>\n",
              "    <tr>\n",
              "      <th>2527</th>\n",
              "      <td>10327</td>\n",
              "      <td>20</td>\n",
              "      <td>100.00</td>\n",
              "      <td>3469.20</td>\n",
              "      <td>11/10/2004 0:00</td>\n",
              "      <td>Resolved</td>\n",
              "      <td>S700_1938</td>\n",
              "      <td>Danish Wholesale Imports</td>\n",
              "      <td>Vinb'ltet 34</td>\n",
              "      <td>Kobenhavn</td>\n",
              "      <td>Denmark</td>\n",
              "      <td>Medium</td>\n",
              "    </tr>\n",
              "    <tr>\n",
              "      <th>1249</th>\n",
              "      <td>10196</td>\n",
              "      <td>27</td>\n",
              "      <td>100.00</td>\n",
              "      <td>4537.08</td>\n",
              "      <td>11/26/2003 0:00</td>\n",
              "      <td>Shipped</td>\n",
              "      <td>S18_4027</td>\n",
              "      <td>Super Scale Inc.</td>\n",
              "      <td>567 North Pendale Street</td>\n",
              "      <td>New Haven</td>\n",
              "      <td>USA</td>\n",
              "      <td>Medium</td>\n",
              "    </tr>\n",
              "  </tbody>\n",
              "</table>\n",
              "</div>\n",
              "    <div class=\"colab-df-buttons\">\n",
              "\n",
              "  <div class=\"colab-df-container\">\n",
              "    <button class=\"colab-df-convert\" onclick=\"convertToInteractive('df-2b7d65fd-9762-4edd-b4c2-f2caf5782f90')\"\n",
              "            title=\"Convert this dataframe to an interactive table.\"\n",
              "            style=\"display:none;\">\n",
              "\n",
              "  <svg xmlns=\"http://www.w3.org/2000/svg\" height=\"24px\" viewBox=\"0 -960 960 960\">\n",
              "    <path d=\"M120-120v-720h720v720H120Zm60-500h600v-160H180v160Zm220 220h160v-160H400v160Zm0 220h160v-160H400v160ZM180-400h160v-160H180v160Zm440 0h160v-160H620v160ZM180-180h160v-160H180v160Zm440 0h160v-160H620v160Z\"/>\n",
              "  </svg>\n",
              "    </button>\n",
              "\n",
              "  <style>\n",
              "    .colab-df-container {\n",
              "      display:flex;\n",
              "      gap: 12px;\n",
              "    }\n",
              "\n",
              "    .colab-df-convert {\n",
              "      background-color: #E8F0FE;\n",
              "      border: none;\n",
              "      border-radius: 50%;\n",
              "      cursor: pointer;\n",
              "      display: none;\n",
              "      fill: #1967D2;\n",
              "      height: 32px;\n",
              "      padding: 0 0 0 0;\n",
              "      width: 32px;\n",
              "    }\n",
              "\n",
              "    .colab-df-convert:hover {\n",
              "      background-color: #E2EBFA;\n",
              "      box-shadow: 0px 1px 2px rgba(60, 64, 67, 0.3), 0px 1px 3px 1px rgba(60, 64, 67, 0.15);\n",
              "      fill: #174EA6;\n",
              "    }\n",
              "\n",
              "    .colab-df-buttons div {\n",
              "      margin-bottom: 4px;\n",
              "    }\n",
              "\n",
              "    [theme=dark] .colab-df-convert {\n",
              "      background-color: #3B4455;\n",
              "      fill: #D2E3FC;\n",
              "    }\n",
              "\n",
              "    [theme=dark] .colab-df-convert:hover {\n",
              "      background-color: #434B5C;\n",
              "      box-shadow: 0px 1px 3px 1px rgba(0, 0, 0, 0.15);\n",
              "      filter: drop-shadow(0px 1px 2px rgba(0, 0, 0, 0.3));\n",
              "      fill: #FFFFFF;\n",
              "    }\n",
              "  </style>\n",
              "\n",
              "    <script>\n",
              "      const buttonEl =\n",
              "        document.querySelector('#df-2b7d65fd-9762-4edd-b4c2-f2caf5782f90 button.colab-df-convert');\n",
              "      buttonEl.style.display =\n",
              "        google.colab.kernel.accessAllowed ? 'block' : 'none';\n",
              "\n",
              "      async function convertToInteractive(key) {\n",
              "        const element = document.querySelector('#df-2b7d65fd-9762-4edd-b4c2-f2caf5782f90');\n",
              "        const dataTable =\n",
              "          await google.colab.kernel.invokeFunction('convertToInteractive',\n",
              "                                                    [key], {});\n",
              "        if (!dataTable) return;\n",
              "\n",
              "        const docLinkHtml = 'Like what you see? Visit the ' +\n",
              "          '<a target=\"_blank\" href=https://colab.research.google.com/notebooks/data_table.ipynb>data table notebook</a>'\n",
              "          + ' to learn more about interactive tables.';\n",
              "        element.innerHTML = '';\n",
              "        dataTable['output_type'] = 'display_data';\n",
              "        await google.colab.output.renderOutput(dataTable, element);\n",
              "        const docLink = document.createElement('div');\n",
              "        docLink.innerHTML = docLinkHtml;\n",
              "        element.appendChild(docLink);\n",
              "      }\n",
              "    </script>\n",
              "  </div>\n",
              "\n",
              "\n",
              "    <div id=\"df-3b808763-8044-47aa-8706-550e2b27a63d\">\n",
              "      <button class=\"colab-df-quickchart\" onclick=\"quickchart('df-3b808763-8044-47aa-8706-550e2b27a63d')\"\n",
              "                title=\"Suggest charts\"\n",
              "                style=\"display:none;\">\n",
              "\n",
              "<svg xmlns=\"http://www.w3.org/2000/svg\" height=\"24px\"viewBox=\"0 0 24 24\"\n",
              "     width=\"24px\">\n",
              "    <g>\n",
              "        <path d=\"M19 3H5c-1.1 0-2 .9-2 2v14c0 1.1.9 2 2 2h14c1.1 0 2-.9 2-2V5c0-1.1-.9-2-2-2zM9 17H7v-7h2v7zm4 0h-2V7h2v10zm4 0h-2v-4h2v4z\"/>\n",
              "    </g>\n",
              "</svg>\n",
              "      </button>\n",
              "\n",
              "<style>\n",
              "  .colab-df-quickchart {\n",
              "      --bg-color: #E8F0FE;\n",
              "      --fill-color: #1967D2;\n",
              "      --hover-bg-color: #E2EBFA;\n",
              "      --hover-fill-color: #174EA6;\n",
              "      --disabled-fill-color: #AAA;\n",
              "      --disabled-bg-color: #DDD;\n",
              "  }\n",
              "\n",
              "  [theme=dark] .colab-df-quickchart {\n",
              "      --bg-color: #3B4455;\n",
              "      --fill-color: #D2E3FC;\n",
              "      --hover-bg-color: #434B5C;\n",
              "      --hover-fill-color: #FFFFFF;\n",
              "      --disabled-bg-color: #3B4455;\n",
              "      --disabled-fill-color: #666;\n",
              "  }\n",
              "\n",
              "  .colab-df-quickchart {\n",
              "    background-color: var(--bg-color);\n",
              "    border: none;\n",
              "    border-radius: 50%;\n",
              "    cursor: pointer;\n",
              "    display: none;\n",
              "    fill: var(--fill-color);\n",
              "    height: 32px;\n",
              "    padding: 0;\n",
              "    width: 32px;\n",
              "  }\n",
              "\n",
              "  .colab-df-quickchart:hover {\n",
              "    background-color: var(--hover-bg-color);\n",
              "    box-shadow: 0 1px 2px rgba(60, 64, 67, 0.3), 0 1px 3px 1px rgba(60, 64, 67, 0.15);\n",
              "    fill: var(--button-hover-fill-color);\n",
              "  }\n",
              "\n",
              "  .colab-df-quickchart-complete:disabled,\n",
              "  .colab-df-quickchart-complete:disabled:hover {\n",
              "    background-color: var(--disabled-bg-color);\n",
              "    fill: var(--disabled-fill-color);\n",
              "    box-shadow: none;\n",
              "  }\n",
              "\n",
              "  .colab-df-spinner {\n",
              "    border: 2px solid var(--fill-color);\n",
              "    border-color: transparent;\n",
              "    border-bottom-color: var(--fill-color);\n",
              "    animation:\n",
              "      spin 1s steps(1) infinite;\n",
              "  }\n",
              "\n",
              "  @keyframes spin {\n",
              "    0% {\n",
              "      border-color: transparent;\n",
              "      border-bottom-color: var(--fill-color);\n",
              "      border-left-color: var(--fill-color);\n",
              "    }\n",
              "    20% {\n",
              "      border-color: transparent;\n",
              "      border-left-color: var(--fill-color);\n",
              "      border-top-color: var(--fill-color);\n",
              "    }\n",
              "    30% {\n",
              "      border-color: transparent;\n",
              "      border-left-color: var(--fill-color);\n",
              "      border-top-color: var(--fill-color);\n",
              "      border-right-color: var(--fill-color);\n",
              "    }\n",
              "    40% {\n",
              "      border-color: transparent;\n",
              "      border-right-color: var(--fill-color);\n",
              "      border-top-color: var(--fill-color);\n",
              "    }\n",
              "    60% {\n",
              "      border-color: transparent;\n",
              "      border-right-color: var(--fill-color);\n",
              "    }\n",
              "    80% {\n",
              "      border-color: transparent;\n",
              "      border-right-color: var(--fill-color);\n",
              "      border-bottom-color: var(--fill-color);\n",
              "    }\n",
              "    90% {\n",
              "      border-color: transparent;\n",
              "      border-bottom-color: var(--fill-color);\n",
              "    }\n",
              "  }\n",
              "</style>\n",
              "\n",
              "      <script>\n",
              "        async function quickchart(key) {\n",
              "          const quickchartButtonEl =\n",
              "            document.querySelector('#' + key + ' button');\n",
              "          quickchartButtonEl.disabled = true;  // To prevent multiple clicks.\n",
              "          quickchartButtonEl.classList.add('colab-df-spinner');\n",
              "          try {\n",
              "            const charts = await google.colab.kernel.invokeFunction(\n",
              "                'suggestCharts', [key], {});\n",
              "          } catch (error) {\n",
              "            console.error('Error during call to suggestCharts:', error);\n",
              "          }\n",
              "          quickchartButtonEl.classList.remove('colab-df-spinner');\n",
              "          quickchartButtonEl.classList.add('colab-df-quickchart-complete');\n",
              "        }\n",
              "        (() => {\n",
              "          let quickchartButtonEl =\n",
              "            document.querySelector('#df-3b808763-8044-47aa-8706-550e2b27a63d button');\n",
              "          quickchartButtonEl.style.display =\n",
              "            google.colab.kernel.accessAllowed ? 'block' : 'none';\n",
              "        })();\n",
              "      </script>\n",
              "    </div>\n",
              "\n",
              "  <div id=\"id_e53af821-b518-4786-854f-8688f79294cf\">\n",
              "    <style>\n",
              "      .colab-df-generate {\n",
              "        background-color: #E8F0FE;\n",
              "        border: none;\n",
              "        border-radius: 50%;\n",
              "        cursor: pointer;\n",
              "        display: none;\n",
              "        fill: #1967D2;\n",
              "        height: 32px;\n",
              "        padding: 0 0 0 0;\n",
              "        width: 32px;\n",
              "      }\n",
              "\n",
              "      .colab-df-generate:hover {\n",
              "        background-color: #E2EBFA;\n",
              "        box-shadow: 0px 1px 2px rgba(60, 64, 67, 0.3), 0px 1px 3px 1px rgba(60, 64, 67, 0.15);\n",
              "        fill: #174EA6;\n",
              "      }\n",
              "\n",
              "      [theme=dark] .colab-df-generate {\n",
              "        background-color: #3B4455;\n",
              "        fill: #D2E3FC;\n",
              "      }\n",
              "\n",
              "      [theme=dark] .colab-df-generate:hover {\n",
              "        background-color: #434B5C;\n",
              "        box-shadow: 0px 1px 3px 1px rgba(0, 0, 0, 0.15);\n",
              "        filter: drop-shadow(0px 1px 2px rgba(0, 0, 0, 0.3));\n",
              "        fill: #FFFFFF;\n",
              "      }\n",
              "    </style>\n",
              "    <button class=\"colab-df-generate\" onclick=\"generateWithVariable('df_sampled')\"\n",
              "            title=\"Generate code using this dataframe.\"\n",
              "            style=\"display:none;\">\n",
              "\n",
              "  <svg xmlns=\"http://www.w3.org/2000/svg\" height=\"24px\"viewBox=\"0 0 24 24\"\n",
              "       width=\"24px\">\n",
              "    <path d=\"M7,19H8.4L18.45,9,17,7.55,7,17.6ZM5,21V16.75L18.45,3.32a2,2,0,0,1,2.83,0l1.4,1.43a1.91,1.91,0,0,1,.58,1.4,1.91,1.91,0,0,1-.58,1.4L9.25,21ZM18.45,9,17,7.55Zm-12,3A5.31,5.31,0,0,0,4.9,8.1,5.31,5.31,0,0,0,1,6.5,5.31,5.31,0,0,0,4.9,4.9,5.31,5.31,0,0,0,6.5,1,5.31,5.31,0,0,0,8.1,4.9,5.31,5.31,0,0,0,12,6.5,5.46,5.46,0,0,0,6.5,12Z\"/>\n",
              "  </svg>\n",
              "    </button>\n",
              "    <script>\n",
              "      (() => {\n",
              "      const buttonEl =\n",
              "        document.querySelector('#id_e53af821-b518-4786-854f-8688f79294cf button.colab-df-generate');\n",
              "      buttonEl.style.display =\n",
              "        google.colab.kernel.accessAllowed ? 'block' : 'none';\n",
              "\n",
              "      buttonEl.onclick = () => {\n",
              "        google.colab.notebook.generateWithVariable('df_sampled');\n",
              "      }\n",
              "      })();\n",
              "    </script>\n",
              "  </div>\n",
              "\n",
              "    </div>\n",
              "  </div>\n"
            ],
            "application/vnd.google.colaboratory.intrinsic+json": {
              "type": "dataframe",
              "variable_name": "df_sampled",
              "repr_error": "0"
            }
          },
          "metadata": {},
          "execution_count": 92
        }
      ]
    },
    {
      "cell_type": "code",
      "source": [
        "csv_file_path=\"/content/sales_data_sample.csv\"\n"
      ],
      "metadata": {
        "colab": {
          "base_uri": "https://localhost:8080/"
        },
        "id": "IQjscpDR4PfC",
        "outputId": "9015d284-6d81-40a6-851a-2bd6fbb3b0a5"
      },
      "execution_count": 80,
      "outputs": [
        {
          "output_type": "stream",
          "name": "stdout",
          "text": [
            "CSV file read successfully with latin-1 encoding.\n",
            "Data converted to string for the LLM.\n",
            "An unexpected error occurred: Error code: 413 - {'error': {'message': 'Request too large for model `llama3-70b-8192` in organization `org_01je8rvwyeeges0q42vafwhca0` service tier `on_demand` on tokens per minute (TPM): Limit 6000, Requested 271145, please reduce your message size and try again. Need more tokens? Upgrade to Dev Tier today at https://console.groq.com/settings/billing', 'type': 'tokens', 'code': 'rate_limit_exceeded'}}\n"
          ]
        }
      ]
    },
    {
      "cell_type": "code",
      "source": [
        "data = df_sampled.to_string()"
      ],
      "metadata": {
        "id": "8zoICRkvBPJ3"
      },
      "execution_count": 93,
      "outputs": []
    },
    {
      "cell_type": "code",
      "source": [
        "data"
      ],
      "metadata": {
        "colab": {
          "base_uri": "https://localhost:8080/",
          "height": 140
        },
        "id": "Iy94ShfKBVl_",
        "outputId": "8c359d83-d2c7-4199-f823-32a7ce2439a8"
      },
      "execution_count": 94,
      "outputs": [
        {
          "output_type": "execute_result",
          "data": {
            "text/plain": [
              "\"      ORDERNUMBER  QUANTITYORDERED  PRICEEACH    SALES        ORDERDATE     STATUS PRODUCTCODE              CUSTOMERNAME                              ADDRESSLINE1       CITY  COUNTRY DEALSIZE\\n2308        10210               39      59.16  2307.24   1/12/2004 0:00    Shipped    S32_4289      Osaka Souveniers Co.  Dojima Avanza 4F, 1-6-20 Dojima, Kita-ku      Osaka    Japan    Small\\n2211        10285               37      41.03  1518.11   8/27/2004 0:00    Shipped    S32_2206      Marta's Replicas Co.                       39323 Spinnaker Dr.  Cambridge      USA    Small\\n1525        10262               34      97.38  3310.92   6/24/2004 0:00  Cancelled    S24_1785     Euro Shopping Channel                        C/ Moralzarzal, 86     Madrid    Spain   Medium\\n2527        10327               20     100.00  3469.20  11/10/2004 0:00   Resolved   S700_1938  Danish Wholesale Imports                              Vinb'ltet 34  Kobenhavn  Denmark   Medium\\n1249        10196               27     100.00  4537.08  11/26/2003 0:00    Shipped    S18_4027          Super Scale Inc.                  567 North Pendale Street  New Haven      USA   Medium\""
            ],
            "application/vnd.google.colaboratory.intrinsic+json": {
              "type": "string"
            }
          },
          "metadata": {},
          "execution_count": 94
        }
      ]
    },
    {
      "cell_type": "code",
      "source": [
        "df_sampled"
      ],
      "metadata": {
        "colab": {
          "base_uri": "https://localhost:8080/",
          "height": 310
        },
        "id": "aHLds4PQE82N",
        "outputId": "2bc4837b-a3b9-4815-da17-a17a56357322"
      },
      "execution_count": 106,
      "outputs": [
        {
          "output_type": "execute_result",
          "data": {
            "text/plain": [
              "      ORDERNUMBER  QUANTITYORDERED  PRICEEACH    SALES        ORDERDATE  \\\n",
              "2308        10210               39      59.16  2307.24   1/12/2004 0:00   \n",
              "2211        10285               37      41.03  1518.11   8/27/2004 0:00   \n",
              "1525        10262               34      97.38  3310.92   6/24/2004 0:00   \n",
              "2527        10327               20     100.00  3469.20  11/10/2004 0:00   \n",
              "1249        10196               27     100.00  4537.08  11/26/2003 0:00   \n",
              "\n",
              "         STATUS PRODUCTCODE              CUSTOMERNAME  \\\n",
              "2308    Shipped    S32_4289      Osaka Souveniers Co.   \n",
              "2211    Shipped    S32_2206      Marta's Replicas Co.   \n",
              "1525  Cancelled    S24_1785     Euro Shopping Channel   \n",
              "2527   Resolved   S700_1938  Danish Wholesale Imports   \n",
              "1249    Shipped    S18_4027          Super Scale Inc.   \n",
              "\n",
              "                                  ADDRESSLINE1       CITY  COUNTRY DEALSIZE  \n",
              "2308  Dojima Avanza 4F, 1-6-20 Dojima, Kita-ku      Osaka    Japan    Small  \n",
              "2211                       39323 Spinnaker Dr.  Cambridge      USA    Small  \n",
              "1525                        C/ Moralzarzal, 86     Madrid    Spain   Medium  \n",
              "2527                              Vinb'ltet 34  Kobenhavn  Denmark   Medium  \n",
              "1249                  567 North Pendale Street  New Haven      USA   Medium  "
            ],
            "text/html": [
              "\n",
              "  <div id=\"df-b7e2b000-35c0-44fd-be50-0a642c983b1b\" class=\"colab-df-container\">\n",
              "    <div>\n",
              "<style scoped>\n",
              "    .dataframe tbody tr th:only-of-type {\n",
              "        vertical-align: middle;\n",
              "    }\n",
              "\n",
              "    .dataframe tbody tr th {\n",
              "        vertical-align: top;\n",
              "    }\n",
              "\n",
              "    .dataframe thead th {\n",
              "        text-align: right;\n",
              "    }\n",
              "</style>\n",
              "<table border=\"1\" class=\"dataframe\">\n",
              "  <thead>\n",
              "    <tr style=\"text-align: right;\">\n",
              "      <th></th>\n",
              "      <th>ORDERNUMBER</th>\n",
              "      <th>QUANTITYORDERED</th>\n",
              "      <th>PRICEEACH</th>\n",
              "      <th>SALES</th>\n",
              "      <th>ORDERDATE</th>\n",
              "      <th>STATUS</th>\n",
              "      <th>PRODUCTCODE</th>\n",
              "      <th>CUSTOMERNAME</th>\n",
              "      <th>ADDRESSLINE1</th>\n",
              "      <th>CITY</th>\n",
              "      <th>COUNTRY</th>\n",
              "      <th>DEALSIZE</th>\n",
              "    </tr>\n",
              "  </thead>\n",
              "  <tbody>\n",
              "    <tr>\n",
              "      <th>2308</th>\n",
              "      <td>10210</td>\n",
              "      <td>39</td>\n",
              "      <td>59.16</td>\n",
              "      <td>2307.24</td>\n",
              "      <td>1/12/2004 0:00</td>\n",
              "      <td>Shipped</td>\n",
              "      <td>S32_4289</td>\n",
              "      <td>Osaka Souveniers Co.</td>\n",
              "      <td>Dojima Avanza 4F, 1-6-20 Dojima, Kita-ku</td>\n",
              "      <td>Osaka</td>\n",
              "      <td>Japan</td>\n",
              "      <td>Small</td>\n",
              "    </tr>\n",
              "    <tr>\n",
              "      <th>2211</th>\n",
              "      <td>10285</td>\n",
              "      <td>37</td>\n",
              "      <td>41.03</td>\n",
              "      <td>1518.11</td>\n",
              "      <td>8/27/2004 0:00</td>\n",
              "      <td>Shipped</td>\n",
              "      <td>S32_2206</td>\n",
              "      <td>Marta's Replicas Co.</td>\n",
              "      <td>39323 Spinnaker Dr.</td>\n",
              "      <td>Cambridge</td>\n",
              "      <td>USA</td>\n",
              "      <td>Small</td>\n",
              "    </tr>\n",
              "    <tr>\n",
              "      <th>1525</th>\n",
              "      <td>10262</td>\n",
              "      <td>34</td>\n",
              "      <td>97.38</td>\n",
              "      <td>3310.92</td>\n",
              "      <td>6/24/2004 0:00</td>\n",
              "      <td>Cancelled</td>\n",
              "      <td>S24_1785</td>\n",
              "      <td>Euro Shopping Channel</td>\n",
              "      <td>C/ Moralzarzal, 86</td>\n",
              "      <td>Madrid</td>\n",
              "      <td>Spain</td>\n",
              "      <td>Medium</td>\n",
              "    </tr>\n",
              "    <tr>\n",
              "      <th>2527</th>\n",
              "      <td>10327</td>\n",
              "      <td>20</td>\n",
              "      <td>100.00</td>\n",
              "      <td>3469.20</td>\n",
              "      <td>11/10/2004 0:00</td>\n",
              "      <td>Resolved</td>\n",
              "      <td>S700_1938</td>\n",
              "      <td>Danish Wholesale Imports</td>\n",
              "      <td>Vinb'ltet 34</td>\n",
              "      <td>Kobenhavn</td>\n",
              "      <td>Denmark</td>\n",
              "      <td>Medium</td>\n",
              "    </tr>\n",
              "    <tr>\n",
              "      <th>1249</th>\n",
              "      <td>10196</td>\n",
              "      <td>27</td>\n",
              "      <td>100.00</td>\n",
              "      <td>4537.08</td>\n",
              "      <td>11/26/2003 0:00</td>\n",
              "      <td>Shipped</td>\n",
              "      <td>S18_4027</td>\n",
              "      <td>Super Scale Inc.</td>\n",
              "      <td>567 North Pendale Street</td>\n",
              "      <td>New Haven</td>\n",
              "      <td>USA</td>\n",
              "      <td>Medium</td>\n",
              "    </tr>\n",
              "  </tbody>\n",
              "</table>\n",
              "</div>\n",
              "    <div class=\"colab-df-buttons\">\n",
              "\n",
              "  <div class=\"colab-df-container\">\n",
              "    <button class=\"colab-df-convert\" onclick=\"convertToInteractive('df-b7e2b000-35c0-44fd-be50-0a642c983b1b')\"\n",
              "            title=\"Convert this dataframe to an interactive table.\"\n",
              "            style=\"display:none;\">\n",
              "\n",
              "  <svg xmlns=\"http://www.w3.org/2000/svg\" height=\"24px\" viewBox=\"0 -960 960 960\">\n",
              "    <path d=\"M120-120v-720h720v720H120Zm60-500h600v-160H180v160Zm220 220h160v-160H400v160Zm0 220h160v-160H400v160ZM180-400h160v-160H180v160Zm440 0h160v-160H620v160ZM180-180h160v-160H180v160Zm440 0h160v-160H620v160Z\"/>\n",
              "  </svg>\n",
              "    </button>\n",
              "\n",
              "  <style>\n",
              "    .colab-df-container {\n",
              "      display:flex;\n",
              "      gap: 12px;\n",
              "    }\n",
              "\n",
              "    .colab-df-convert {\n",
              "      background-color: #E8F0FE;\n",
              "      border: none;\n",
              "      border-radius: 50%;\n",
              "      cursor: pointer;\n",
              "      display: none;\n",
              "      fill: #1967D2;\n",
              "      height: 32px;\n",
              "      padding: 0 0 0 0;\n",
              "      width: 32px;\n",
              "    }\n",
              "\n",
              "    .colab-df-convert:hover {\n",
              "      background-color: #E2EBFA;\n",
              "      box-shadow: 0px 1px 2px rgba(60, 64, 67, 0.3), 0px 1px 3px 1px rgba(60, 64, 67, 0.15);\n",
              "      fill: #174EA6;\n",
              "    }\n",
              "\n",
              "    .colab-df-buttons div {\n",
              "      margin-bottom: 4px;\n",
              "    }\n",
              "\n",
              "    [theme=dark] .colab-df-convert {\n",
              "      background-color: #3B4455;\n",
              "      fill: #D2E3FC;\n",
              "    }\n",
              "\n",
              "    [theme=dark] .colab-df-convert:hover {\n",
              "      background-color: #434B5C;\n",
              "      box-shadow: 0px 1px 3px 1px rgba(0, 0, 0, 0.15);\n",
              "      filter: drop-shadow(0px 1px 2px rgba(0, 0, 0, 0.3));\n",
              "      fill: #FFFFFF;\n",
              "    }\n",
              "  </style>\n",
              "\n",
              "    <script>\n",
              "      const buttonEl =\n",
              "        document.querySelector('#df-b7e2b000-35c0-44fd-be50-0a642c983b1b button.colab-df-convert');\n",
              "      buttonEl.style.display =\n",
              "        google.colab.kernel.accessAllowed ? 'block' : 'none';\n",
              "\n",
              "      async function convertToInteractive(key) {\n",
              "        const element = document.querySelector('#df-b7e2b000-35c0-44fd-be50-0a642c983b1b');\n",
              "        const dataTable =\n",
              "          await google.colab.kernel.invokeFunction('convertToInteractive',\n",
              "                                                    [key], {});\n",
              "        if (!dataTable) return;\n",
              "\n",
              "        const docLinkHtml = 'Like what you see? Visit the ' +\n",
              "          '<a target=\"_blank\" href=https://colab.research.google.com/notebooks/data_table.ipynb>data table notebook</a>'\n",
              "          + ' to learn more about interactive tables.';\n",
              "        element.innerHTML = '';\n",
              "        dataTable['output_type'] = 'display_data';\n",
              "        await google.colab.output.renderOutput(dataTable, element);\n",
              "        const docLink = document.createElement('div');\n",
              "        docLink.innerHTML = docLinkHtml;\n",
              "        element.appendChild(docLink);\n",
              "      }\n",
              "    </script>\n",
              "  </div>\n",
              "\n",
              "\n",
              "    <div id=\"df-7cf0888b-57d2-4a65-80c1-0dae73f0b97e\">\n",
              "      <button class=\"colab-df-quickchart\" onclick=\"quickchart('df-7cf0888b-57d2-4a65-80c1-0dae73f0b97e')\"\n",
              "                title=\"Suggest charts\"\n",
              "                style=\"display:none;\">\n",
              "\n",
              "<svg xmlns=\"http://www.w3.org/2000/svg\" height=\"24px\"viewBox=\"0 0 24 24\"\n",
              "     width=\"24px\">\n",
              "    <g>\n",
              "        <path d=\"M19 3H5c-1.1 0-2 .9-2 2v14c0 1.1.9 2 2 2h14c1.1 0 2-.9 2-2V5c0-1.1-.9-2-2-2zM9 17H7v-7h2v7zm4 0h-2V7h2v10zm4 0h-2v-4h2v4z\"/>\n",
              "    </g>\n",
              "</svg>\n",
              "      </button>\n",
              "\n",
              "<style>\n",
              "  .colab-df-quickchart {\n",
              "      --bg-color: #E8F0FE;\n",
              "      --fill-color: #1967D2;\n",
              "      --hover-bg-color: #E2EBFA;\n",
              "      --hover-fill-color: #174EA6;\n",
              "      --disabled-fill-color: #AAA;\n",
              "      --disabled-bg-color: #DDD;\n",
              "  }\n",
              "\n",
              "  [theme=dark] .colab-df-quickchart {\n",
              "      --bg-color: #3B4455;\n",
              "      --fill-color: #D2E3FC;\n",
              "      --hover-bg-color: #434B5C;\n",
              "      --hover-fill-color: #FFFFFF;\n",
              "      --disabled-bg-color: #3B4455;\n",
              "      --disabled-fill-color: #666;\n",
              "  }\n",
              "\n",
              "  .colab-df-quickchart {\n",
              "    background-color: var(--bg-color);\n",
              "    border: none;\n",
              "    border-radius: 50%;\n",
              "    cursor: pointer;\n",
              "    display: none;\n",
              "    fill: var(--fill-color);\n",
              "    height: 32px;\n",
              "    padding: 0;\n",
              "    width: 32px;\n",
              "  }\n",
              "\n",
              "  .colab-df-quickchart:hover {\n",
              "    background-color: var(--hover-bg-color);\n",
              "    box-shadow: 0 1px 2px rgba(60, 64, 67, 0.3), 0 1px 3px 1px rgba(60, 64, 67, 0.15);\n",
              "    fill: var(--button-hover-fill-color);\n",
              "  }\n",
              "\n",
              "  .colab-df-quickchart-complete:disabled,\n",
              "  .colab-df-quickchart-complete:disabled:hover {\n",
              "    background-color: var(--disabled-bg-color);\n",
              "    fill: var(--disabled-fill-color);\n",
              "    box-shadow: none;\n",
              "  }\n",
              "\n",
              "  .colab-df-spinner {\n",
              "    border: 2px solid var(--fill-color);\n",
              "    border-color: transparent;\n",
              "    border-bottom-color: var(--fill-color);\n",
              "    animation:\n",
              "      spin 1s steps(1) infinite;\n",
              "  }\n",
              "\n",
              "  @keyframes spin {\n",
              "    0% {\n",
              "      border-color: transparent;\n",
              "      border-bottom-color: var(--fill-color);\n",
              "      border-left-color: var(--fill-color);\n",
              "    }\n",
              "    20% {\n",
              "      border-color: transparent;\n",
              "      border-left-color: var(--fill-color);\n",
              "      border-top-color: var(--fill-color);\n",
              "    }\n",
              "    30% {\n",
              "      border-color: transparent;\n",
              "      border-left-color: var(--fill-color);\n",
              "      border-top-color: var(--fill-color);\n",
              "      border-right-color: var(--fill-color);\n",
              "    }\n",
              "    40% {\n",
              "      border-color: transparent;\n",
              "      border-right-color: var(--fill-color);\n",
              "      border-top-color: var(--fill-color);\n",
              "    }\n",
              "    60% {\n",
              "      border-color: transparent;\n",
              "      border-right-color: var(--fill-color);\n",
              "    }\n",
              "    80% {\n",
              "      border-color: transparent;\n",
              "      border-right-color: var(--fill-color);\n",
              "      border-bottom-color: var(--fill-color);\n",
              "    }\n",
              "    90% {\n",
              "      border-color: transparent;\n",
              "      border-bottom-color: var(--fill-color);\n",
              "    }\n",
              "  }\n",
              "</style>\n",
              "\n",
              "      <script>\n",
              "        async function quickchart(key) {\n",
              "          const quickchartButtonEl =\n",
              "            document.querySelector('#' + key + ' button');\n",
              "          quickchartButtonEl.disabled = true;  // To prevent multiple clicks.\n",
              "          quickchartButtonEl.classList.add('colab-df-spinner');\n",
              "          try {\n",
              "            const charts = await google.colab.kernel.invokeFunction(\n",
              "                'suggestCharts', [key], {});\n",
              "          } catch (error) {\n",
              "            console.error('Error during call to suggestCharts:', error);\n",
              "          }\n",
              "          quickchartButtonEl.classList.remove('colab-df-spinner');\n",
              "          quickchartButtonEl.classList.add('colab-df-quickchart-complete');\n",
              "        }\n",
              "        (() => {\n",
              "          let quickchartButtonEl =\n",
              "            document.querySelector('#df-7cf0888b-57d2-4a65-80c1-0dae73f0b97e button');\n",
              "          quickchartButtonEl.style.display =\n",
              "            google.colab.kernel.accessAllowed ? 'block' : 'none';\n",
              "        })();\n",
              "      </script>\n",
              "    </div>\n",
              "\n",
              "  <div id=\"id_e267a3d3-be9d-4ff5-a346-ed8353f46ec5\">\n",
              "    <style>\n",
              "      .colab-df-generate {\n",
              "        background-color: #E8F0FE;\n",
              "        border: none;\n",
              "        border-radius: 50%;\n",
              "        cursor: pointer;\n",
              "        display: none;\n",
              "        fill: #1967D2;\n",
              "        height: 32px;\n",
              "        padding: 0 0 0 0;\n",
              "        width: 32px;\n",
              "      }\n",
              "\n",
              "      .colab-df-generate:hover {\n",
              "        background-color: #E2EBFA;\n",
              "        box-shadow: 0px 1px 2px rgba(60, 64, 67, 0.3), 0px 1px 3px 1px rgba(60, 64, 67, 0.15);\n",
              "        fill: #174EA6;\n",
              "      }\n",
              "\n",
              "      [theme=dark] .colab-df-generate {\n",
              "        background-color: #3B4455;\n",
              "        fill: #D2E3FC;\n",
              "      }\n",
              "\n",
              "      [theme=dark] .colab-df-generate:hover {\n",
              "        background-color: #434B5C;\n",
              "        box-shadow: 0px 1px 3px 1px rgba(0, 0, 0, 0.15);\n",
              "        filter: drop-shadow(0px 1px 2px rgba(0, 0, 0, 0.3));\n",
              "        fill: #FFFFFF;\n",
              "      }\n",
              "    </style>\n",
              "    <button class=\"colab-df-generate\" onclick=\"generateWithVariable('df_sampled')\"\n",
              "            title=\"Generate code using this dataframe.\"\n",
              "            style=\"display:none;\">\n",
              "\n",
              "  <svg xmlns=\"http://www.w3.org/2000/svg\" height=\"24px\"viewBox=\"0 0 24 24\"\n",
              "       width=\"24px\">\n",
              "    <path d=\"M7,19H8.4L18.45,9,17,7.55,7,17.6ZM5,21V16.75L18.45,3.32a2,2,0,0,1,2.83,0l1.4,1.43a1.91,1.91,0,0,1,.58,1.4,1.91,1.91,0,0,1-.58,1.4L9.25,21ZM18.45,9,17,7.55Zm-12,3A5.31,5.31,0,0,0,4.9,8.1,5.31,5.31,0,0,0,1,6.5,5.31,5.31,0,0,0,4.9,4.9,5.31,5.31,0,0,0,6.5,1,5.31,5.31,0,0,0,8.1,4.9,5.31,5.31,0,0,0,12,6.5,5.46,5.46,0,0,0,6.5,12Z\"/>\n",
              "  </svg>\n",
              "    </button>\n",
              "    <script>\n",
              "      (() => {\n",
              "      const buttonEl =\n",
              "        document.querySelector('#id_e267a3d3-be9d-4ff5-a346-ed8353f46ec5 button.colab-df-generate');\n",
              "      buttonEl.style.display =\n",
              "        google.colab.kernel.accessAllowed ? 'block' : 'none';\n",
              "\n",
              "      buttonEl.onclick = () => {\n",
              "        google.colab.notebook.generateWithVariable('df_sampled');\n",
              "      }\n",
              "      })();\n",
              "    </script>\n",
              "  </div>\n",
              "\n",
              "    </div>\n",
              "  </div>\n"
            ],
            "application/vnd.google.colaboratory.intrinsic+json": {
              "type": "dataframe",
              "variable_name": "df_sampled",
              "repr_error": "0"
            }
          },
          "metadata": {},
          "execution_count": 106
        }
      ]
    },
    {
      "cell_type": "code",
      "source": [
        "generate_code=\"\"\"\n",
        "\"You are an expert Python data analyst. I will provide you with a pandas dataFrame and a question about the data.\n",
        " Your task is to write the Python code necessary to answer my question. The code should be clean, well-commented, and ready to run,\n",
        " using libraries like pandas or others as needed.\n",
        " Modularity: Break down complex tasks into smaller, manageable functions or classes.\n",
        "Readability: Use meaningful variable names, add comments where necessary, and maintain consistent indentation.\n",
        " Error Handling: Include basic error handling where appropriate.\n",
        " Your responses should be formatted as Python code blocks, ready to be copied and used.\n",
        " generate only the code and nothing else .\n",
        "\n",
        " here is the user query:{query}\n",
        " here is the dataFrane:{dataframe}\n",
        "\"\"\"\n",
        "prompt=ChatPromptTemplate.from_template(generate_code)\n",
        "\n",
        "chain=prompt|llm"
      ],
      "metadata": {
        "id": "3Z5y4H5PAWVD"
      },
      "execution_count": 96,
      "outputs": []
    },
    {
      "cell_type": "code",
      "source": [
        "res=chain.invoke({\"query\":\"which country has the highest average sales?\",\"dataframe\":data})"
      ],
      "metadata": {
        "id": "CHWeZxObBt9C"
      },
      "execution_count": 110,
      "outputs": []
    },
    {
      "cell_type": "code",
      "source": [
        "print(res.content)"
      ],
      "metadata": {
        "colab": {
          "base_uri": "https://localhost:8080/"
        },
        "id": "fkHs7ggQBzCm",
        "outputId": "34989c58-dc65-41e1-e1d1-fd041b092126"
      },
      "execution_count": 99,
      "outputs": [
        {
          "output_type": "stream",
          "name": "stdout",
          "text": [
            "```\n",
            "import pandas as pd\n",
            "\n",
            "def highest_average_sales_country(df):\n",
            "    \"\"\"\n",
            "    This function calculates the average sales for each country and returns the country with the highest average sales.\n",
            "\n",
            "    Parameters:\n",
            "    df (pandas DataFrame): The input DataFrame containing the sales data.\n",
            "\n",
            "    Returns:\n",
            "    str: The country with the highest average sales.\n",
            "    \"\"\"\n",
            "    # Group the data by country and calculate the average sales for each country\n",
            "    avg_sales_by_country = df.groupby('COUNTRY')['SALES'].mean().reset_index()\n",
            "\n",
            "    # Find the country with the highest average sales\n",
            "    highest_avg_sales_country = avg_sales_by_country.loc[avg_sales_by_country['SALES'].idxmax()]['COUNTRY']\n",
            "\n",
            "    return highest_avg_sales_country\n",
            "\n",
            "# Assuming the DataFrame is stored in a variable called 'df'\n",
            "result = highest_average_sales_country(df)\n",
            "print(result)\n",
            "```\n"
          ]
        }
      ]
    },
    {
      "cell_type": "code",
      "source": [
        "python_tool = PythonREPLTool()"
      ],
      "metadata": {
        "id": "rP-ylp6IDUGl"
      },
      "execution_count": 104,
      "outputs": []
    },
    {
      "cell_type": "code",
      "source": [
        "df_sampled.to_csv(\"temp.csv\", index=False)\n",
        "\n",
        "# Load inside REPL\n",
        "python_tool.run(\"\"\"\n",
        "import pandas as pd\n",
        "df = pd.read_csv(\"temp.csv\")\n",
        "\"\"\")\n",
        "\n"
      ],
      "metadata": {
        "colab": {
          "base_uri": "https://localhost:8080/",
          "height": 35
        },
        "id": "QqB6pnBYEwYu",
        "outputId": "ce21d425-4da2-4c07-ca64-dd54f06521f5"
      },
      "execution_count": 109,
      "outputs": [
        {
          "output_type": "execute_result",
          "data": {
            "text/plain": [
              "''"
            ],
            "application/vnd.google.colaboratory.intrinsic+json": {
              "type": "string"
            }
          },
          "metadata": {},
          "execution_count": 109
        }
      ]
    },
    {
      "cell_type": "code",
      "source": [
        "answer=python_tool.run(res.content)"
      ],
      "metadata": {
        "id": "wpy1MGmtDuZQ"
      },
      "execution_count": 111,
      "outputs": []
    },
    {
      "cell_type": "code",
      "source": [
        "answer"
      ],
      "metadata": {
        "colab": {
          "base_uri": "https://localhost:8080/",
          "height": 35
        },
        "id": "qSrfgHnbG9uu",
        "outputId": "1fb7c6b1-abad-4a49-b408-0f9912908993"
      },
      "execution_count": 112,
      "outputs": [
        {
          "output_type": "execute_result",
          "data": {
            "text/plain": [
              "'Denmark\\n'"
            ],
            "application/vnd.google.colaboratory.intrinsic+json": {
              "type": "string"
            }
          },
          "metadata": {},
          "execution_count": 112
        }
      ]
    },
    {
      "cell_type": "code",
      "source": [
        "res=chain.invoke({\"query\":\"What is the average sales amount for each country in this datase?\",\"dataframe\":data})"
      ],
      "metadata": {
        "id": "OpgwDVkwCEsM"
      },
      "execution_count": 119,
      "outputs": []
    },
    {
      "cell_type": "code",
      "source": [
        "print(res.content)"
      ],
      "metadata": {
        "colab": {
          "base_uri": "https://localhost:8080/"
        },
        "id": "JE8rsO8aCMU1",
        "outputId": "ee7316b0-c7aa-4242-cceb-725f53e27287"
      },
      "execution_count": 102,
      "outputs": [
        {
          "output_type": "stream",
          "name": "stdout",
          "text": [
            "```\n",
            "import pandas as pd\n",
            "\n",
            "def calculate_average_sales_per_country(df):\n",
            "    \"\"\"\n",
            "    Calculate the average sales amount for each country in the dataset.\n",
            "\n",
            "    Args:\n",
            "        df (pd.DataFrame): The input DataFrame.\n",
            "\n",
            "    Returns:\n",
            "        pd.DataFrame: A DataFrame with the average sales amount for each country.\n",
            "    \"\"\"\n",
            "    try:\n",
            "        # Group the data by country and calculate the mean sales amount\n",
            "        avg_sales_per_country = df.groupby('COUNTRY')['SALES'].mean().reset_index()\n",
            "\n",
            "        return avg_sales_per_country\n",
            "    except Exception as e:\n",
            "        print(f\"An error occurred: {e}\")\n",
            "        return None\n",
            "\n",
            "# Assuming the DataFrame is stored in a variable named 'df'\n",
            "result = calculate_average_sales_per_country(df)\n",
            "print(result)\n",
            "```\n"
          ]
        }
      ]
    },
    {
      "cell_type": "code",
      "source": [
        "answer=python_tool.run(res.content)\n",
        "print(answer)"
      ],
      "metadata": {
        "colab": {
          "base_uri": "https://localhost:8080/"
        },
        "id": "L2WRGxeEHBb8",
        "outputId": "078a279b-a92a-44ec-d961-652c73ffe00f"
      },
      "execution_count": 121,
      "outputs": [
        {
          "metadata": {
            "tags": null
          },
          "name": "stdout",
          "output_type": "stream",
          "text": [
            "   COUNTRY     SALES\n",
            "0  Denmark  3469.200\n",
            "1    Japan  2307.240\n",
            "2    Spain  3310.920\n",
            "3      USA  3027.595\n",
            "\n"
          ]
        }
      ]
    },
    {
      "cell_type": "code",
      "source": [
        "res=chain.invoke({\"query\":\"What is the average sales amount for each country in this dataset, and which country has the highest average sales\",\"dataframe\":data})\n",
        "print(res.content)"
      ],
      "metadata": {
        "colab": {
          "base_uri": "https://localhost:8080/"
        },
        "id": "TDB3tvE8COGh",
        "outputId": "3e050ba0-6c63-4949-b2b6-747cb53297f6"
      },
      "execution_count": 115,
      "outputs": [
        {
          "output_type": "stream",
          "name": "stdout",
          "text": [
            "```\n",
            "import pandas as pd\n",
            "\n",
            "def calculate_average_sales_by_country(df):\n",
            "    \"\"\"\n",
            "    Calculate the average sales amount for each country in the dataset.\n",
            "\n",
            "    Args:\n",
            "        df (pd.DataFrame): The input DataFrame.\n",
            "\n",
            "    Returns:\n",
            "        pd.DataFrame: A DataFrame with the average sales amount for each country.\n",
            "    \"\"\"\n",
            "    average_sales_by_country = df.groupby('COUNTRY')['SALES'].mean().reset_index()\n",
            "    return average_sales_by_country\n",
            "\n",
            "def find_country_with_highest_average_sales(df):\n",
            "    \"\"\"\n",
            "    Find the country with the highest average sales amount.\n",
            "\n",
            "    Args:\n",
            "        df (pd.DataFrame): The input DataFrame.\n",
            "\n",
            "    Returns:\n",
            "        str: The country with the highest average sales amount.\n",
            "    \"\"\"\n",
            "    average_sales_by_country = calculate_average_sales_by_country(df)\n",
            "    country_with_highest_average_sales = average_sales_by_country.loc[average_sales_by_country['SALES'].idxmax()]['COUNTRY']\n",
            "    return country_with_highest_average_sales\n",
            "\n",
            "# Example usage\n",
            "df = pd.DataFrame({\n",
            "    'ORDERNUMBER': [2308, 2211, 1525, 2527, 1249],\n",
            "    'QUANTITYORDERED': [10210, 10285, 10262, 10327, 10196],\n",
            "    'PRICEEACH': [39, 37, 34, 20, 27],\n",
            "    'SALES': [2307.24, 1518.11, 3310.92, 3469.20, 4537.08],\n",
            "    'ORDERDATE': ['1/12/2004 0:00', '8/27/2004 0:00', '6/24/2004 0:00', '11/10/2004 0:00', '11/26/2003 0:00'],\n",
            "    'STATUS': ['Shipped', 'Shipped', 'Cancelled', 'Resolved', 'Shipped'],\n",
            "    'PRODUCTCODE': ['S32_4289', 'S32_2206', 'S24_1785', 'S700_1938', 'S18_4027'],\n",
            "    'CUSTOMERNAME': ['Osaka Souveniers Co.', 'Marta\\'s Replicas Co.', 'Euro Shopping Channel', 'Danish Wholesale Imports', 'Super Scale Inc.'],\n",
            "    'ADDRESSLINE1': ['Dojima Avanza 4F, 1-6-20 Dojima, Kita-ku', '39323 Spinnaker Dr.', 'C/ Moralzarzal, 86', 'Vinb\\'ltet 34', '567 North Pendale Street'],\n",
            "    'CITY': ['Osaka', 'Cambridge', 'Madrid', 'Kobenhavn', 'New Haven'],\n",
            "    'COUNTRY': ['Japan', 'USA', 'Spain', 'Denmark', 'USA'],\n",
            "    'DEALSIZE': ['Small', 'Small', 'Medium', 'Medium', 'Medium']\n",
            "})\n",
            "\n",
            "average_sales_by_country = calculate_average_sales_by_country(df)\n",
            "print(\"Average sales by country:\")\n",
            "print(average_sales_by_country)\n",
            "\n",
            "country_with_highest_average_sales = find_country_with_highest_average_sales(df)\n",
            "print(f\"Country with highest average sales: {country_with_highest_average_sales}\")\n",
            "```\n"
          ]
        }
      ]
    },
    {
      "cell_type": "code",
      "source": [
        "answer=python_tool.run(res.content)\n",
        "print(answer)"
      ],
      "metadata": {
        "colab": {
          "base_uri": "https://localhost:8080/"
        },
        "id": "_1K_Wx1bHLxy",
        "outputId": "4e299a71-2fa3-4770-acd1-f2fb048405aa"
      },
      "execution_count": 117,
      "outputs": [
        {
          "output_type": "stream",
          "name": "stdout",
          "text": [
            "Average sales by country:\n",
            "   COUNTRY     SALES\n",
            "0  Denmark  3469.200\n",
            "1    Japan  2307.240\n",
            "2    Spain  3310.920\n",
            "3      USA  3027.595\n",
            "Country with highest average sales: Denmark\n",
            "\n"
          ]
        }
      ]
    },
    {
      "cell_type": "code",
      "source": [
        "res=chain.invoke({\"query\":\"calcucate 15 + 10 \"})\n",
        "res"
      ],
      "metadata": {
        "colab": {
          "base_uri": "https://localhost:8080/"
        },
        "id": "DWNW3VjUnwph",
        "outputId": "b507c055-a93f-407c-97c6-4ebb334b85d4"
      },
      "execution_count": 21,
      "outputs": [
        {
          "output_type": "execute_result",
          "data": {
            "text/plain": [
              "AIMessage(content='```# Define the numbers for calculation\\nnumber_one = 15\\nnumber_two = 10\\n\\n# Perform the addition\\nresult_sum = number_one + number_two\\n\\n# Print the calculated sum\\nprint(result_sum)\\n```', additional_kwargs={}, response_metadata={'prompt_feedback': {'block_reason': 0, 'safety_ratings': []}, 'finish_reason': 'STOP', 'model_name': 'gemini-2.5-flash', 'safety_ratings': []}, id='run--70ab1038-dc6c-462e-ac66-7664436a29b6-0', usage_metadata={'input_tokens': 415, 'output_tokens': 128, 'total_tokens': 543, 'input_token_details': {'cache_read': 0}, 'output_token_details': {'reasoning': 73}})"
            ]
          },
          "metadata": {},
          "execution_count": 21
        }
      ]
    },
    {
      "cell_type": "code",
      "source": [
        "print(res.content)"
      ],
      "metadata": {
        "colab": {
          "base_uri": "https://localhost:8080/"
        },
        "id": "g4HEBsLrn5sB",
        "outputId": "922bcf06-847f-4541-f380-1deb76f8f5bb"
      },
      "execution_count": 22,
      "outputs": [
        {
          "output_type": "stream",
          "name": "stdout",
          "text": [
            "```# Define the numbers for calculation\n",
            "number_one = 15\n",
            "number_two = 10\n",
            "\n",
            "# Perform the addition\n",
            "result_sum = number_one + number_two\n",
            "\n",
            "# Print the calculated sum\n",
            "print(result_sum)\n",
            "```\n"
          ]
        }
      ]
    },
    {
      "cell_type": "code",
      "source": [
        "from langchain_core.prompts import ChatPromptTemplate\n",
        "from langchain_core.messages import HumanMessage, AIMessage"
      ],
      "metadata": {
        "id": "gBj4_Z54nNV8"
      },
      "execution_count": null,
      "outputs": []
    },
    {
      "cell_type": "code",
      "source": [],
      "metadata": {
        "id": "q0UeXgBmM8Eg"
      },
      "execution_count": null,
      "outputs": []
    },
    {
      "cell_type": "code",
      "source": [
        "from langgraph.graph import StateGraph, START, END\n",
        "\n",
        "from langchain_experimental.tools import PythonREPLTool\n",
        "from langchain.prompts import ChatPromptTemplate\n",
        "from langchain_core.output_parsers import StrOutputParser\n",
        "from typing_extensions import TypedDict\n",
        "\n",
        "\n",
        "\n",
        "#  Tool for Python execution (data analysis)\n",
        "python_tool = PythonREPLTool()\n",
        "\n",
        "\n",
        "class AgentState(TypedDict):\n",
        "    query: str\n",
        "    result: str\n",
        "    code :str\n",
        "    explanation:str\n",
        "    output:str\n",
        "    dataframe:object\n",
        "    data:str\n",
        "\n",
        "\n",
        "\n",
        "def input_handler_node(state:AgentState):\n",
        "    \"\"\"Handle user input.\"\"\"\n",
        "    df=state.get(\"dataframe\",\"\")\n",
        "    df_sampled = df.sample(n=5)\n",
        "    df_sampled.drop(['ORDERLINENUMBER', 'QTR_ID','MONTH_ID','ADDRESSLINE2','YEAR_ID','STATE','POSTALCODE','TERRITORY','CONTACTFIRSTNAME','CONTACTLASTNAME','PHONE','PRODUCTLINE','MSRP'] ,axis=1, inplace=True)\n",
        "    data = df_sampled.to_string()\n",
        "    return {\"dataframe\":df_sampled,\"data\":data}\n",
        "\n",
        "\n",
        "def llm_node(state: AgentState):\n",
        "    \"\"\" explanation  via LLM.\"\"\"\n",
        "    template=\"\"\"you are expert in explaing the code to user.\n",
        "    given a user query and the code expain the code to user.\n",
        "    CODE : {code}\n",
        "    QUERY : {query}\n",
        "    \"\"\"\n",
        "    explain_prompt=ChatPromptTemplate.from_template(template)\n",
        "    explain_chain=explain_prompt|llm|StrOutputParser()\n",
        "    response = explain_chain.invoke({\"query\":state[\"query\"],\"code\":state[\"code\"]})\n",
        "    return {\"explanation\": response}\n",
        "\n",
        "\n",
        "def generate_code(state: AgentState):\n",
        "    \"\"\"Generate Python code via LLM and clean it.\"\"\"\n",
        "    query = state.get(\"query\", \"\")\n",
        "    data = state.get(\"data\", \"\")\n",
        "\n",
        "    response = chain.invoke({\"query\": query, \"dataframe\": data})\n",
        "\n",
        "    # Handle both string and LLM response objects\n",
        "    code_content = getattr(response, \"content\", response)\n",
        "    code_content = code_content.strip()\n",
        "\n",
        "    # Remove all markdown fences if present\n",
        "    if \"```\" in code_content:\n",
        "        code_content = code_content.split(\"```\")[1]  # take middle part\n",
        "    if code_content.startswith(\"python\"):\n",
        "        code_content = code_content[len(\"python\"):]\n",
        "\n",
        "    code_content = code_content.strip()\n",
        "    return {\"code\": code_content}\n",
        "\n",
        "\n",
        "\n",
        "\n",
        "\n",
        "\n",
        "def code_exicuter_tool(state: AgentState):\n",
        "    \"\"\"Execute code safely in Python REPL.\"\"\"\n",
        "    code = state.get(\"code\", \"\")\n",
        "    df_sampled = state.get(\"dataframe\", \"\")\n",
        "    df_sampled.to_csv(\"temp.csv\", index=False)\n",
        "\n",
        "    # Always start with dataframe load\n",
        "    preamble = (\n",
        "        \"import pandas as pd\\n\"\n",
        "        \"df = pd.read_csv('temp.csv')\\n\"\n",
        "    )\n",
        "\n",
        "    # Detect if code is a single line expression (no newlines, no def, no import)\n",
        "    if \"\\n\" not in code and not any(kw in code for kw in [\"import\", \"def\", \"=\", \"for\", \"while\"]):\n",
        "        wrapped_code = preamble + f\"print({code})\"\n",
        "    else:\n",
        "        wrapped_code = preamble + code\n",
        "\n",
        "    response = python_tool.run(wrapped_code)\n",
        "    return {\"result\": str(response)}\n",
        "\n",
        "\n",
        "def output_node(state:AgentState):\n",
        "    template=\"\"\"you are expert in presenting output to the user given a query ,code , answer  to the query.\n",
        "    format of output:\n",
        "      **Your Query:**\n",
        "      **Generated code:**\n",
        "      **ans:**\n",
        "\n",
        "\n",
        "    ANSWER : {result}\n",
        "    QUERY : {query}\n",
        "    CODE : {code}\n",
        "    present the output\n",
        "    \"\"\"\n",
        "    explain_prompt=ChatPromptTemplate.from_template(template)\n",
        "    explain_chain=explain_prompt|llm|StrOutputParser()\n",
        "    response = explain_chain.invoke({\"query\":state[\"query\"],\"result\":state[\"result\"],\"code\":state[\"code\"]})\n",
        "    return {\"output\": response}\n",
        "\n",
        "\n",
        "\n",
        "workflow = StateGraph(AgentState)\n",
        "workflow.add_node(\"input_handler_node\",input_handler_node)\n",
        "workflow.add_node(\"llm_node\", llm_node)\n",
        "workflow.add_node(\"generate_code\", generate_code)\n",
        "workflow.add_node(\"code_exicuter_tool\", code_exicuter_tool)\n",
        "workflow.add_node(\"output_node\", output_node)\n",
        "\n",
        "workflow.add_edge(START,\"input_handler_node\")\n",
        "workflow.add_edge(\"input_handler_node\", \"generate_code\")\n",
        "workflow.add_edge(\"generate_code\", \"code_exicuter_tool\")\n",
        "workflow.add_edge(\"code_exicuter_tool\", \"llm_node\")\n",
        "workflow.add_edge(\"llm_node\", \"output_node\")\n",
        "workflow.add_edge(\"output_node\", END)\n",
        "\n",
        "app = workflow.compile()\n",
        "\n",
        "\n",
        "app"
      ],
      "metadata": {
        "colab": {
          "base_uri": "https://localhost:8080/",
          "height": 647
        },
        "id": "7cCmNBpRkEUP",
        "outputId": "556ab0da-8c3e-4ea4-87d0-7f3ed5e879ff"
      },
      "execution_count": 137,
      "outputs": [
        {
          "output_type": "execute_result",
          "data": {
            "text/plain": [
              "<langgraph.graph.state.CompiledStateGraph object at 0x7e1567a0c3e0>"
            ],
            "image/png": "[encoded data removed]"
          },
          "metadata": {},
          "execution_count": 137
        }
      ]
    },
    {
      "cell_type": "code",
      "source": [
        "user_query=\"Find the total sales amount for all orders\"\n",
        "state = {\"query\": user_query,\"dataframe\":df}\n",
        "final_state = app.invoke(state)\n",
        "print(\"Answer:\", final_state[\"result\"])\n",
        "print(\"------\"*80)\n",
        "print(\"output:\", final_state['output'])"
      ],
      "metadata": {
        "colab": {
          "base_uri": "https://localhost:8080/"
        },
        "id": "BdiJZw-hk9C3",
        "outputId": "853548ef-83fc-47c1-ab15-242bcfbbc45f"
      },
      "execution_count": 138,
      "outputs": [
        {
          "output_type": "stream",
          "name": "stdout",
          "text": [
            "Answer: Total sales amount: 15983.58\n",
            "\n",
            "------------------------------------------------------------------------------------------------------------------------------------------------------------------------------------------------------------------------------------------------------------------------------------------------------------------------------------------------------------------------------------------------------------------------------------------------------------------------------------------------\n",
            "output: **Your Query:** Find the total sales amount for all orders\n",
            "**Generated code:**\n",
            "```\n",
            "import pandas as pd\n",
            "\n",
            "def calculate_total_sales(df):\n",
            "    \"\"\"\n",
            "    Calculate the total sales amount for all orders.\n",
            "\n",
            "    Args:\n",
            "        df (pd.DataFrame): The input DataFrame containing the sales data.\n",
            "\n",
            "    Returns:\n",
            "        float: The total sales amount.\n",
            "    \"\"\"\n",
            "    try:\n",
            "        total_sales = df['SALES'].sum()\n",
            "        return total_sales\n",
            "    except KeyError:\n",
            "        print(\"Error: 'SALES' column not found in the DataFrame.\")\n",
            "        return None\n",
            "\n",
            "# Assuming the DataFrame is stored in a variable named 'df'\n",
            "total_sales_amount = calculate_total_sales(df)\n",
            "print(\"Total sales amount:\", total_sales_amount)\n",
            "```\n",
            "**ans:** Total sales amount: 15983.58\n"
          ]
        }
      ]
    },
    {
      "cell_type": "code",
      "source": [
        "user_query=\"List all unique countries where customers placed orders.\"\n",
        "state = {\"query\": user_query,\"dataframe\":df}\n",
        "final_state = app.invoke(state)\n",
        "print(\"Answer:\", final_state[\"result\"])\n",
        "print(\"------\"*80)\n",
        "print(\"output:\", final_state['output'])"
      ],
      "metadata": {
        "colab": {
          "base_uri": "https://localhost:8080/"
        },
        "id": "gqnDPrSRv7B0",
        "outputId": "d8f4b166-f37b-47e3-b69c-3a8b8478e4d4"
      },
      "execution_count": 139,
      "outputs": [
        {
          "output_type": "stream",
          "name": "stdout",
          "text": [
            "Answer: ['France', 'Finland', 'USA']\n",
            "\n",
            "------------------------------------------------------------------------------------------------------------------------------------------------------------------------------------------------------------------------------------------------------------------------------------------------------------------------------------------------------------------------------------------------------------------------------------------------------------------------------------------------\n",
            "output: **Your Query:** List all unique countries where customers placed orders.\n",
            "\n",
            "**Generated code:**\n",
            "```\n",
            "import pandas as pd\n",
            "\n",
            "def get_unique_countries(df):\n",
            "    \"\"\"\n",
            "    Returns a list of unique countries where customers placed orders.\n",
            "    \n",
            "    Parameters:\n",
            "    df (pandas DataFrame): The input DataFrame containing order data.\n",
            "    \n",
            "    Returns:\n",
            "    list: A list of unique countries.\n",
            "    \"\"\"\n",
            "    try:\n",
            "        unique_countries = df['COUNTRY'].unique().tolist()\n",
            "        return unique_countries\n",
            "    except KeyError:\n",
            "        print(\"Error: 'COUNTRY' column not found in the DataFrame.\")\n",
            "        return []\n",
            "\n",
            "# Assuming the DataFrame is stored in a variable named 'df'\n",
            "unique_countries = get_unique_countries(df)\n",
            "print(unique_countries)\n",
            "```\n",
            "**ans:** ['France', 'Finland', 'USA']\n"
          ]
        }
      ]
    },
    {
      "cell_type": "code",
      "source": [
        "user_query=\"Which country has the highest average sales per order, and what is that average?\"\n",
        "state = {\"query\": user_query,\"dataframe\":df}\n",
        "final_state = app.invoke(state)\n",
        "print(\"Answer:\", final_state[\"result\"])\n",
        "print(\"------\"*80)\n",
        "print(\"output:\", final_state['output'])"
      ],
      "metadata": {
        "colab": {
          "base_uri": "https://localhost:8080/"
        },
        "id": "RjDEvFNLwd4t",
        "outputId": "d2cf6d48-64e9-435d-bb77-bdb4ff776747"
      },
      "execution_count": 140,
      "outputs": [
        {
          "output_type": "stream",
          "name": "stdout",
          "text": [
            "Answer: The country with the highest average sales per order is USA with an average of 4991.64.\n",
            "\n",
            "------------------------------------------------------------------------------------------------------------------------------------------------------------------------------------------------------------------------------------------------------------------------------------------------------------------------------------------------------------------------------------------------------------------------------------------------------------------------------------------------\n",
            "output: **Your Query:** Which country has the highest average sales per order, and what is that average?\n",
            "\n",
            "**Generated code:**\n",
            "```\n",
            "import pandas as pd\n",
            "\n",
            "def highest_average_sales_per_country(df):\n",
            "    \"\"\"\n",
            "    Calculate the country with the highest average sales per order.\n",
            "\n",
            "    Parameters:\n",
            "    df (pandas.DataFrame): The input DataFrame.\n",
            "\n",
            "    Returns:\n",
            "    tuple: A tuple containing the country with the highest average sales per order and the average sales.\n",
            "    \"\"\"\n",
            "    # Group the data by country and calculate the average sales per order\n",
            "    avg_sales_per_country = df.groupby('COUNTRY')['SALES'].mean()\n",
            "\n",
            "    # Get the country with the highest average sales per order\n",
            "    highest_avg_sales_country = avg_sales_per_country.idxmax()\n",
            "    highest_avg_sales = avg_sales_per_country.max()\n",
            "\n",
            "    return highest_avg_sales_country, highest_avg_sales\n",
            "\n",
            "# Assuming the DataFrame is stored in a variable named 'df'\n",
            "result = highest_average_sales_per_country(df)\n",
            "print(f\"The country with the highest average sales per order is {result[0]} with an average of {result[1]:.2f}.\")\n",
            "```\n",
            "\n",
            "**ans:** The country with the highest average sales per order is USA with an average of 4991.64.\n"
          ]
        }
      ]
    }
  ]
}