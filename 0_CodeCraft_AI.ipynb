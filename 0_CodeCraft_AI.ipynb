{
  "nbformat": 4,
  "nbformat_minor": 0,
  "metadata": {
    "colab": {
      "provenance": []
    },
    "kernelspec": {
      "name": "python3",
      "display_name": "Python 3"
    },
    "language_info": {
      "name": "python"
    }
  },
  "cells": [
    {
      "cell_type": "code",
      "execution_count": 3,
      "metadata": {
        "id": "O8EBksOZkDi5"
      },
      "outputs": [],
      "source": [
        "%%capture\n",
        "!pip install -q langchain langgraph langchain_core langchain_community langchain-google-genai langchain_experimental"
      ]
    },
    {
      "cell_type": "code",
      "source": [
        "import os\n",
        "\n",
        "google_api_key=\"\"\n",
        "\n",
        "\n",
        "os.environ[\"GOOGLE_API_KEY\"]=google_api_key\n",
        "\n",
        "\n",
        "\n",
        "from langchain_google_genai import ChatGoogleGenerativeAI\n",
        "\n",
        "# model_name=\"gemini-1.5-flash-latest\"\n",
        "model_name=\"gemini-2.5-flash\"\n",
        "\n",
        "llm=ChatGoogleGenerativeAI(\n",
        "    model=model_name,\n",
        "    temperature=0.2\n",
        ")\n"
      ],
      "metadata": {
        "id": "2ZfnyBQOkEXl"
      },
      "execution_count": 2,
      "outputs": []
    },
    {
      "cell_type": "code",
      "source": [
        "\n",
        "generate_python_code_template=\"\"\"As a Python Code Writer and Developer Persona, your role is to generate high-quality, idiomatic, and well-structured Python code templates based on user requests. You should aim for clarity, efficiency, and adherence to Python best practices (like PEP 8).\n",
        "based on the user query/\n",
        "When generating code templates, consider the following:\n",
        "\n",
        "Purpose: Clearly understand the user's goal and the specific task the code should accomplish.\n",
        "Modularity: Break down complex tasks into smaller, manageable functions or classes.\n",
        "Readability: Use meaningful variable names, add comments where necessary, and maintain consistent indentation.\n",
        "Efficiency: Consider potential performance bottlenecks and suggest efficient approaches.\n",
        "Error Handling: Include basic error handling where appropriate.\n",
        "Examples: Provide simple examples demonstrating how to use the generated code.\n",
        "Dependencies: Mention any necessary libraries or dependencies.\n",
        "Flexibility: Design templates that can be easily adapted and extended by the user.\n",
        "Your responses should be formatted as Python code blocks, ready to be copied and used.\n",
        "\n",
        "generate only the code and nothing else .\n",
        "do not give example\n",
        "do not inlcude name 'python' like see the example of correct output and incorrect output\n",
        "incorrect one:\n",
        "query:calcucate 15 + 10\n",
        "output:```python\\n# Define the numbers for calculation\\nnumber_one = 15\\nnumber_two = 10\\n\\n# Perform the addition\\nresult_sum = number_one + number_two\\n\\n# Print the calculated sum\\nprint(result_sum)\\n```\n",
        "\n",
        "correct one :\n",
        "query:calcucate 15 + 10\n",
        "output:```# Define the numbers for calculation\\nnumber_one = 15\\nnumber_two = 10\\n\\n# Perform the addition\\nresult_sum = number_one + number_two\\n\\n# Print the calculated sum\\nprint(result_sum)\\n```\n",
        "here is the user' query:{query}\n",
        "\"\"\"\n",
        "prompt=ChatPromptTemplate.from_template(generate_python_code_template)\n",
        "\n",
        "chain=prompt|llm"
      ],
      "metadata": {
        "id": "x4Zqxg4yq1w2"
      },
      "execution_count": null,
      "outputs": []
    },
    {
      "cell_type": "code",
      "source": [
        "res=chain.invoke({\"query\":\"calcucate 15 + 10 \"})\n",
        "res"
      ],
      "metadata": {
        "colab": {
          "base_uri": "https://localhost:8080/"
        },
        "id": "DWNW3VjUnwph",
        "outputId": "b507c055-a93f-407c-97c6-4ebb334b85d4"
      },
      "execution_count": 21,
      "outputs": [
        {
          "output_type": "execute_result",
          "data": {
            "text/plain": [
              "AIMessage(content='```# Define the numbers for calculation\\nnumber_one = 15\\nnumber_two = 10\\n\\n# Perform the addition\\nresult_sum = number_one + number_two\\n\\n# Print the calculated sum\\nprint(result_sum)\\n```', additional_kwargs={}, response_metadata={'prompt_feedback': {'block_reason': 0, 'safety_ratings': []}, 'finish_reason': 'STOP', 'model_name': 'gemini-2.5-flash', 'safety_ratings': []}, id='run--70ab1038-dc6c-462e-ac66-7664436a29b6-0', usage_metadata={'input_tokens': 415, 'output_tokens': 128, 'total_tokens': 543, 'input_token_details': {'cache_read': 0}, 'output_token_details': {'reasoning': 73}})"
            ]
          },
          "metadata": {},
          "execution_count": 21
        }
      ]
    },
    {
      "cell_type": "code",
      "source": [
        "print(res.content)"
      ],
      "metadata": {
        "colab": {
          "base_uri": "https://localhost:8080/"
        },
        "id": "g4HEBsLrn5sB",
        "outputId": "922bcf06-847f-4541-f380-1deb76f8f5bb"
      },
      "execution_count": 22,
      "outputs": [
        {
          "output_type": "stream",
          "name": "stdout",
          "text": [
            "```# Define the numbers for calculation\n",
            "number_one = 15\n",
            "number_two = 10\n",
            "\n",
            "# Perform the addition\n",
            "result_sum = number_one + number_two\n",
            "\n",
            "# Print the calculated sum\n",
            "print(result_sum)\n",
            "```\n"
          ]
        }
      ]
    },
    {
      "cell_type": "code",
      "source": [
        "from langchain_core.prompts import ChatPromptTemplate\n",
        "from langchain_core.messages import HumanMessage, AIMessage"
      ],
      "metadata": {
        "id": "gBj4_Z54nNV8"
      },
      "execution_count": null,
      "outputs": []
    },
    {
      "cell_type": "code",
      "source": [
        "from langgraph.graph import StateGraph, START, END\n",
        "\n",
        "from langchain_experimental.tools import PythonREPLTool\n",
        "from langchain.prompts import ChatPromptTemplate\n",
        "from langchain_core.output_parsers import StrOutputParser\n",
        "from typing_extensions import TypedDict\n",
        "\n",
        "\n",
        "\n",
        "# Define Tool for Python execution (data analysis)\n",
        "python_tool = PythonREPLTool()\n",
        "\n",
        "\n",
        "class AgentState(TypedDict):\n",
        "    query: str\n",
        "    result: str\n",
        "    code :str\n",
        "    explanation:str\n",
        "    output:str\n",
        "\n",
        "\n",
        "\n",
        "\n",
        "\n",
        "def llm_node(state: AgentState):\n",
        "    \"\"\" explanation  via LLM.\"\"\"\n",
        "    template=\"\"\"you are expert in explaing the code to user.\n",
        "    given a user query and the code expain the code to user.\n",
        "    CODE : {code}\n",
        "    QUERY : {query}\n",
        "    \"\"\"\n",
        "    explain_prompt=ChatPromptTemplate.from_template(template)\n",
        "    explain_chain=explain_prompt|llm|StrOutputParser()\n",
        "    response = explain_chain.invoke({\"query\":state[\"query\"],\"code\":state[\"code\"]})\n",
        "    return {\"explanation\": response}\n",
        "\n",
        "def generate_code(state: AgentState):\n",
        "    \"\"\"Handle explanation queries via LLM.\"\"\"\n",
        "\n",
        "    response=chain.invoke({\"query\":state[\"query\"]})\n",
        "    return {\"code\": response.content}\n",
        "\n",
        "def code_exicuter_tool(state: AgentState):\n",
        "    \"\"\"Handle computation queries via Python REPL tool.\"\"\"\n",
        "    code = state.get(\"code\",\"\")\n",
        "    response = python_tool.run(code)\n",
        "    return {\"result\": str(response)}\n",
        "\n",
        "def output_node(state:AgentState):\n",
        "    template=\"\"\"you are expert in presenting output to the user given a query ,code , answer  to the query.\n",
        "    format of output:\n",
        "      **Your Query:**\n",
        "      **Generated code:**\n",
        "      **ans:**\n",
        "\n",
        "\n",
        "    ANSWER : {result}\n",
        "    QUERY : {query}\n",
        "    CODE : {code}\n",
        "    present the output\n",
        "    \"\"\"\n",
        "    explain_prompt=ChatPromptTemplate.from_template(template)\n",
        "    explain_chain=explain_prompt|llm|StrOutputParser()\n",
        "    response = explain_chain.invoke({\"query\":state[\"query\"],\"result\":state[\"result\"],\"code\":state[\"code\"]})\n",
        "    return {\"output\": response}\n",
        "\n",
        "\n",
        "\n",
        "workflow = StateGraph(AgentState)\n",
        "\n",
        "workflow.add_node(\"llm_node\", llm_node)\n",
        "workflow.add_node(\"generate_code\", generate_code)\n",
        "workflow.add_node(\"code_exicuter_tool\", code_exicuter_tool)\n",
        "workflow.add_node(\"output_node\", output_node)\n",
        "\n",
        "workflow.add_edge(START,\"generate_code\")\n",
        "workflow.add_edge(\"generate_code\", \"code_exicuter_tool\")\n",
        "workflow.add_edge(\"code_exicuter_tool\", \"llm_node\")\n",
        "workflow.add_edge(\"llm_node\", \"output_node\")\n",
        "workflow.add_edge(\"output_node\", END)\n",
        "\n",
        "app = workflow.compile()\n",
        "\n",
        "\n",
        "app"
      ],
      "metadata": {
        "colab": {
          "base_uri": "https://localhost:8080/",
          "height": 548
        },
        "id": "7cCmNBpRkEUP",
        "outputId": "9eb2db40-e722-4bc7-9386-845c0ad68179"
      },
      "execution_count": 48,
      "outputs": [
        {
          "output_type": "execute_result",
          "data": {
            "text/plain": [
              "<langgraph.graph.state.CompiledStateGraph object at 0x7e156a205a90>"
            ],
            "image/png": "[encoded data removed]"
          },
          "metadata": {},
          "execution_count": 48
        }
      ]
    },
    {
      "cell_type": "code",
      "source": [
        "state = {\"query\": \"calculate 5*20\"}\n",
        "final_state = app.invoke(state)\n",
        "print(\"Answer:\", final_state[\"result\"])"
      ],
      "metadata": {
        "colab": {
          "base_uri": "https://localhost:8080/"
        },
        "id": "BdiJZw-hk9C3",
        "outputId": "90f8afaf-ed36-48c8-f540-0cfbc3483570"
      },
      "execution_count": 49,
      "outputs": [
        {
          "metadata": {
            "tags": null
          },
          "name": "stdout",
          "output_type": "stream",
          "text": [
            "Answer: 100\n",
            "\n"
          ]
        }
      ]
    },
    {
      "cell_type": "code",
      "source": [
        "print(\"Answer:\", final_state['output'])"
      ],
      "metadata": {
        "colab": {
          "base_uri": "https://localhost:8080/"
        },
        "id": "gqnDPrSRv7B0",
        "outputId": "e2a698ea-1d9c-4389-a647-620918ee2106"
      },
      "execution_count": 50,
      "outputs": [
        {
          "metadata": {
            "tags": null
          },
          "name": "stdout",
          "output_type": "stream",
          "text": [
            "Answer: **Your Query:** calculate 5*20\n",
            "**Generated code:** ```\n",
            "# Define the numbers for calculation\n",
            "number_one = 5\n",
            "number_two = 20\n",
            "\n",
            "# Perform the multiplication\n",
            "result_product = number_one * number_two\n",
            "\n",
            "# Print the calculated product\n",
            "print(result_product)\n",
            "```\n",
            "**ans:** 100\n"
          ]
        }
      ]
    },
    {
      "cell_type": "code",
      "source": [
        "state = {\"query\": \"What is the square root of 144?\"}\n",
        "final_state = app.invoke(state)\n",
        "print(\"Answer:\", final_state[\"result\"])"
      ],
      "metadata": {
        "colab": {
          "base_uri": "https://localhost:8080/"
        },
        "id": "RjDEvFNLwd4t",
        "outputId": "411dd175-f6da-439e-d5d8-3e3971a20f2f"
      },
      "execution_count": 51,
      "outputs": [
        {
          "metadata": {
            "tags": null
          },
          "name": "stdout",
          "output_type": "stream",
          "text": [
            "Answer: 12.0\n",
            "\n"
          ]
        }
      ]
    },
    {
      "cell_type": "code",
      "source": [
        "print(\"Answer:\", final_state['output'])"
      ],
      "metadata": {
        "colab": {
          "base_uri": "https://localhost:8080/"
        },
        "id": "fSy6GBc0wfjm",
        "outputId": "a12a938c-894d-400c-bbb6-9d8e0e17d960"
      },
      "execution_count": 52,
      "outputs": [
        {
          "metadata": {
            "tags": null
          },
          "name": "stdout",
          "output_type": "stream",
          "text": [
            "Answer: **Your Query:** What is the square root of 144?\n",
            "**Generated code:** ```import math\n",
            "\n",
            "# Define the number for which to calculate the square root\n",
            "number = 144\n",
            "\n",
            "# Calculate the square root\n",
            "square_root_result = math.sqrt(number)\n",
            "\n",
            "# Print the calculated square root\n",
            "print(square_root_result)\n",
            "```\n",
            "**ans:** 12.0\n"
          ]
        }
      ]
    },
    {
      "cell_type": "code",
      "source": [
        "user=\"Calculate the area of a circle with a radius of 5\"\n",
        "state = {\"query\": user}\n",
        "final_state = app.invoke(state)\n",
        "print(\"Answer:\", final_state[\"result\"])"
      ],
      "metadata": {
        "colab": {
          "base_uri": "https://localhost:8080/"
        },
        "id": "TDjdk41Lp2cP",
        "outputId": "021cd6c7-9867-4651-a26c-dd845134786a"
      },
      "execution_count": 53,
      "outputs": [
        {
          "metadata": {
            "tags": null
          },
          "name": "stdout",
          "output_type": "stream",
          "text": [
            "Answer: The area of a circle with radius 5 is: 78.53981633974483\n",
            "\n"
          ]
        }
      ]
    },
    {
      "cell_type": "code",
      "source": [
        "print(\"Answer:\", final_state['output'])"
      ],
      "metadata": {
        "colab": {
          "base_uri": "https://localhost:8080/"
        },
        "id": "DScaxtVexady",
        "outputId": "594502c9-bce2-4911-9007-a3a910302a1b"
      },
      "execution_count": 54,
      "outputs": [
        {
          "metadata": {
            "tags": null
          },
          "name": "stdout",
          "output_type": "stream",
          "text": [
            "Answer: **Your Query:** Calculate the area of a circle with a radius of 5\n",
            "**Generated code:** ```\n",
            "import math\n",
            "\n",
            "def calculate_circle_area(radius):\n",
            "    \"\"\"\n",
            "    Calculates the area of a circle given its radius.\n",
            "\n",
            "    Args:\n",
            "        radius (float or int): The radius of the circle.\n",
            "\n",
            "    Returns:\n",
            "        float: The calculated area of the circle.\n",
            "\n",
            "    Raises:\n",
            "        ValueError: If the radius is negative.\n",
            "    \"\"\"\n",
            "    if radius < 0:\n",
            "        raise ValueError(\"Radius cannot be negative.\")\n",
            "    return math.pi * (radius ** 2)\n",
            "\n",
            "# Define the radius\n",
            "circle_radius = 5\n",
            "\n",
            "# Calculate the area\n",
            "area = calculate_circle_area(circle_radius)\n",
            "\n",
            "# Print the result\n",
            "print(f\"The area of a circle with radius {circle_radius} is: {area}\")\n",
            "```\n",
            "**ans:** The area of a circle with radius 5 is: 78.53981633974483\n"
          ]
        }
      ]
    },
    {
      "cell_type": "code",
      "source": [
        "user=\"Generate Python code to read a CSV file named 'data.csv' into a pandas DataFrame and display the first 5 rows file is not provided just generate the code for asuming the file is present\"\n",
        "state = {\"query\": user}\n",
        "final_state = app.invoke(state)\n",
        "print(\"Answer:\", final_state[\"result\"])"
      ],
      "metadata": {
        "colab": {
          "base_uri": "https://localhost:8080/"
        },
        "id": "XlPVuDBaxN5d",
        "outputId": "ab425419-fbe1-49a6-8be3-821bd8f5a7e0"
      },
      "execution_count": 55,
      "outputs": [
        {
          "metadata": {
            "tags": null
          },
          "name": "stdout",
          "output_type": "stream",
          "text": [
            "Answer: \n"
          ]
        }
      ]
    },
    {
      "cell_type": "code",
      "source": [
        "print(\"Answer:\", final_state['output'])"
      ],
      "metadata": {
        "colab": {
          "base_uri": "https://localhost:8080/"
        },
        "id": "P61dRik3xVjn",
        "outputId": "9265ab4d-b21a-4e25-8ff1-fa9f7cbe70cb"
      },
      "execution_count": 56,
      "outputs": [
        {
          "metadata": {
            "tags": null
          },
          "name": "stdout",
          "output_type": "stream",
          "text": [
            "Answer: **Your Query:** Generate Python code to read a CSV file named 'data.csv' into a pandas DataFrame and display the first 5 rows file is not provided just generate the code for asuming the file is present\n",
            "**Generated code:** ```\n",
            "import pandas as pd\n",
            "\n",
            "def read_csv_and_display_head(file_path: str, num_rows: int = 5):\n",
            "    \"\"\"\n",
            "    Reads a CSV file into a pandas DataFrame and displays the first N rows.\n",
            "\n",
            "    Args:\n",
            "        file_path (str): The path to the CSV file.\n",
            "        num_rows (int): The number of rows to display from the head of the DataFrame.\n",
            "\n",
            "    Returns:\n",
            "        pandas.DataFrame: The DataFrame loaded from the CSV file, or None if an error occurs.\n",
            "    \"\"\"\n",
            "    try:\n",
            "        df = pd.read_csv(file_path)\n",
            "        print(f\"Successfully loaded '{file_path}'.\")\n",
            "        print(f\"First {num_rows} rows:\")\n",
            "        print(df.head(num_rows))\n",
            "        return df\n",
            "    except FileNotFoundError:\n",
            "        print(f\"Error: The file '{file_path}' was not found.\")\n",
            "        return None\n",
            "    except pd.errors.EmptyDataError:\n",
            "        print(f\"Error: The file '{file_path}' is empty.\")\n",
            "        return None\n",
            "    except pd.errors.ParserError:\n",
            "        print(f\"Error: Could not parse '{file_path}'. Check file format.\")\n",
            "        return None\n",
            "    except Exception as e:\n",
            "        print(f\"An unexpected error occurred: {e}\")\n",
            "        return None\n",
            "\n",
            "# --- Usage Example ---\n",
            "# if __name__ == \"__main__\":\n",
            "#     csv_file_name = 'data.csv'\n",
            "#     dataframe = read_csv_and_display_head(csv_file_name, num_rows=5)\n",
            "\n",
            "#     if dataframe is not None:\n",
            "#         # You can now work with the 'dataframe' object\n",
            "#         # For example, print its shape:\n",
            "#         # print(f\"\\nDataFrame shape: {dataframe.shape}\")\n",
            "#         pass\n",
            "```\n",
            "**ans:** The provided Python code effectively addresses the query by defining a robust function `read_csv_and_display_head` that reads a specified CSV file into a pandas DataFrame and prints its first 5 rows. It includes comprehensive error handling for common issues like `FileNotFoundError`, `EmptyDataError`, and `ParserError`, ensuring graceful execution even when the file is missing or malformed. The usage example demonstrates how to call the function with 'data.csv'.\n"
          ]
        }
      ]
    },
    {
      "cell_type": "code",
      "source": [],
      "metadata": {
        "id": "3PDRyNdbxd_7"
      },
      "execution_count": null,
      "outputs": []
    }
  ]
}