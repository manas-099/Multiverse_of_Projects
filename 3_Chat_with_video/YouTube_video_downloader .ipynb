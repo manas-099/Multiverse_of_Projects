{
  "cells": [
    {
      "cell_type": "code",
      "execution_count": null,
      "metadata": {
        "id": "nxzBACxQr_ZQ"
      },
      "outputs": [],
      "source": [
        "!pip install -q langchain_google_genai"
      ]
    },
    {
      "cell_type": "code",
      "execution_count": 20,
      "metadata": {
        "colab": {
          "base_uri": "https://localhost:8080/"
        },
        "id": "EsEXJ0eexOWI",
        "outputId": "5ab77d97-0da9-48ed-f15f-defd0e540047"
      },
      "outputs": [
        {
          "name": "stdout",
          "output_type": "stream",
          "text": [
            "\u001b[2K   \u001b[90m━━━━━━━━━━━━━━━━━━━━━━━━━━━━━━━━━━━━━━━━\u001b[0m \u001b[32m31.4/31.4 MB\u001b[0m \u001b[31m33.0 MB/s\u001b[0m eta \u001b[36m0:00:00\u001b[0m\n",
            "\u001b[?25h"
          ]
        }
      ],
      "source": [
        "!pip install -q moviepy langchain  faiss-cpu\n"
      ]
    },
    {
      "cell_type": "code",
      "execution_count": null,
      "metadata": {
        "id": "GtHKpUPLySoH"
      },
      "outputs": [],
      "source": [
        "!pip install -qU langchain-community"
      ]
    },
    {
      "cell_type": "code",
      "execution_count": null,
      "metadata": {
        "id": "GdFxEqher8bi"
      },
      "outputs": [],
      "source": [
        "import os\n",
        "os.environ[\"GOOGLE_API_KEY\"]=\"\"\n",
        "from langchain_google_genai import ChatGoogleGenerativeAI\n",
        "\n",
        "llm = ChatGoogleGenerativeAI(\n",
        "    model=\"gemini-2.0-flash-exp\",\n",
        "    temperature=0,\n",
        "\n",
        ")"
      ]
    },
    {
      "cell_type": "code",
      "execution_count": null,
      "metadata": {
        "colab": {
          "base_uri": "https://localhost:8080/"
        },
        "id": "CsdakitPnfFt",
        "outputId": "ad064e42-abc3-41ad-b966-e083943a60e3"
      },
      "outputs": [],
      "source": [
        "!pip install -q yt-dlp\n",
        "\n",
        "\n",
        "\n",
        "\n",
        "\n"
      ]
    },
    {
      "cell_type": "code",
      "execution_count": 9,
      "metadata": {
        "id": "PeRhoQU8mXuz"
      },
      "outputs": [],
      "source": [
        "import yt_dlp\n",
        "\n",
        "def download_youtube_video(url):\n",
        "    \"\"\"\n",
        "    Download a YouTube video with user-selected resolution.\n",
        "    Falls back to highest available if requested resolution is not present.\n",
        "    \"\"\"\n",
        "    # Ask user for preferred resolution\n",
        "    resolution = input(\"Enter desired resolution (e.g., 1080, 720, 480): \")\n",
        "\n",
        "    # yt-dlp format string: video + audio best matching resolution\n",
        "    ydl_opts = {\n",
        "        'format': f'bestvideo[height<={resolution}]+bestaudio/best',\n",
        "        'outtmpl': '%(title)s.%(ext)s',\n",
        "        'merge_output_format': 'mp4'\n",
        "    }\n",
        "\n",
        "    try:\n",
        "        with yt_dlp.YoutubeDL(ydl_opts) as ydl:\n",
        "            ydl.download([url])\n",
        "        print(\"Successfully downloaded!\")\n",
        "    except Exception as e:\n",
        "        print(\"Error downloading video:\", e)\n",
        "\n",
        "\n",
        "\n"
      ]
    },
    {
      "cell_type": "code",
      "execution_count": 33,
      "metadata": {
        "colab": {
          "base_uri": "https://localhost:8080/"
        },
        "id": "7JQuufsBpCEt",
        "outputId": "572bcc32-59d5-4880-a2cc-d80987d74deb"
      },
      "outputs": [
        {
          "name": "stdout",
          "output_type": "stream",
          "text": [
            "Enter desired resolution (e.g., 1080, 720, 480): 480\n",
            "[youtube] Extracting URL: https://www.youtube.com/watch?v=wrpmqMz-m4w\n",
            "[youtube] wrpmqMz-m4w: Downloading webpage\n",
            "[youtube] wrpmqMz-m4w: Downloading tv simply player API JSON\n",
            "[youtube] wrpmqMz-m4w: Downloading tv client config\n",
            "[youtube] wrpmqMz-m4w: Downloading tv player API JSON\n",
            "[info] wrpmqMz-m4w: Downloading 1 format(s): 397+251\n",
            "[download] Destination: This 2 Minute Challenge can make you a Topper⚡.f397.mp4\n",
            "[download] 100% of    3.60MiB in 00:00:00 at 4.70MiB/s   \n",
            "[download] Destination: This 2 Minute Challenge can make you a Topper⚡.f251.webm\n",
            "[download] 100% of    1.98MiB in 00:00:00 at 25.11MiB/s  \n",
            "[Merger] Merging formats into \"This 2 Minute Challenge can make you a Topper⚡.mp4\"\n",
            "Deleting original file This 2 Minute Challenge can make you a Topper⚡.f397.mp4 (pass -k to keep)\n",
            "Deleting original file This 2 Minute Challenge can make you a Topper⚡.f251.webm (pass -k to keep)\n",
            "Successfully downloaded!\n"
          ]
        }
      ],
      "source": [
        "url = \"https://www.youtube.com/watch?v=wrpmqMz-m4w\"\n",
        "download_youtube_video(url)"
      ]
    },
    {
      "cell_type": "code",
      "execution_count": null,
      "metadata": {
        "id": "Kp7qCRyC8pgW"
      },
      "outputs": [],
      "source": []
    }
  ],
  "metadata": {
    "colab": {
      "provenance": []
    },
    "kernelspec": {
      "display_name": "Python 3",
      "name": "python3"
    },
    "language_info": {
      "name": "python"
    }
  },
  "nbformat": 4,
  "nbformat_minor": 0
}
